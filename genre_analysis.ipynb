{
 "cells": [
  {
   "cell_type": "code",
   "execution_count": 25,
   "metadata": {},
   "outputs": [],
   "source": [
    "import pyspark\n",
    "from pyspark import SparkContext, SQLContext\n",
    "from pyspark.sql import SparkSession \n",
    "from pyspark.sql.functions import split, regexp_replace,explode,translate,col\n",
    "import matplotlib.pyplot as plt\n",
    "import seaborn as sns\n",
    "import pandas as pd"
   ]
  },
  {
   "cell_type": "code",
   "execution_count": 5,
   "metadata": {},
   "outputs": [],
   "source": [
    "# local\n",
    "appName = \"Genre_Analysis\"\n",
    "master = \"local\"\n",
    "\n",
    "conf = pyspark.SparkConf()\\\n",
    "  .set('spark.driver.host','127.0.0.1')\\\n",
    "  .setAppName(appName)\\\n",
    "  .setMaster(master) \n",
    "  \n",
    "sc = SparkContext.getOrCreate(conf=conf)\n",
    "\n",
    "sqlContext = SQLContext(sc)\n",
    "\n",
    "spark = SparkSession.builder.master(\"local[*]\").appName(appName).getOrCreate()\n",
    "\n"
   ]
  },
  {
   "cell_type": "code",
   "execution_count": 9,
   "metadata": {},
   "outputs": [],
   "source": [
    "# cloud\n",
    "spark = SparkSession.builder.master(\"yarn\").appName(appName).getOrCreate()"
   ]
  },
  {
   "cell_type": "markdown",
   "metadata": {},
   "source": [
    "# Genre_analysis"
   ]
  },
  {
   "cell_type": "code",
   "execution_count": 32,
   "metadata": {},
   "outputs": [
    {
     "name": "stdout",
     "output_type": "stream",
     "text": [
      "+--------------------+------+-----------+--------------------+--------------------+--------------------+-------------------+--------------------+--------------------+---------------+\n",
      "|         movie title|Rating|User Rating|             Generes|            Overview|        Plot Kyeword|           Director|         Top 5 Casts|              Writer|           year|\n",
      "+--------------------+------+-----------+--------------------+--------------------+--------------------+-------------------+--------------------+--------------------+---------------+\n",
      "|   Top Gun: Maverick|   8.6|   187000.0|        Action,Drama|After more than t...|['fighter jet', '...|    Joseph Kosinski|['Jack Epps Jr.',...|            Jim Cash|           2022|\n",
      "|Jurassic World Do...|   6.0|    56000.0|Action,Adventure,...|Four years after ...|['dinosaur', 'jur...|    Colin Trevorrow|['Colin Trevorrow...|    Emily Carmichael|           2022|\n",
      "|             Top Gun|   6.9|   380000.0|        Action,Drama|As students at th...|['pilot', 'male c...|         Tony Scott|['Jack Epps Jr.',...|            Jim Cash|           1986|\n",
      "|           Lightyear|   5.2|    32000.0|Animation,Action,...|While spending ye...|['galaxy', 'space...|      Angus MacLane|['Jason Headley',...|       Angus MacLane|           2022|\n",
      "|          Spiderhead|   5.4|    23000.0|  Action,Crime,Drama|In the near futur...|['discover', 'med...|    Joseph Kosinski|['Rhett Reese', '...|     George Saunders|           2022|\n",
      "|Everything Everyw...|   8.3|   124000.0|Action,Adventure,...|An aging Chinese ...|['multiverse', 's...|           Dan Kwan|['Dan Kwan', 'Dan...|    Daniel Scheinert|           2022|\n",
      "|         Interceptor|   4.4|    17000.0|Action,Adventure,...|One Army captain ...|['violence', 'gun...|     Matthew Reilly|['Stuart Beattie'...|      Matthew Reilly|           2022|\n",
      "|         Interceptor|   3.6|      819.0|Action,Sci-Fi,Thr...|When Special forc...|['outer space', '...|Konstantin Maksimov|['Konstantin Maks...|   Vasily Golovachov|           2022|\n",
      "|          Black Adam|   0.0|        0.0|Action,Fantasy,Sc...|Nearly 5,000 year...|['dc extended uni...| Jaume Collet-Serra|['Rory Haines', '...|       Adam Sztykiel|           2022|\n",
      "|        The Northman|   7.2|   128000.0|Action,Adventure,...|From visionary di...|\"['female full fr...|             'king'|         'berserker'| 'female pubic ha...|  Robert Eggers|\n",
      "|Thor: Love and Th...|   8.2|      926.0|Action,Adventure,...|Thor enlists the ...|['marvel comics',...|      Taika Waititi|['Jennifer Kaytin...|       Taika Waititi|           2022|\n",
      "|Fantastic Beasts:...|   6.2|   100000.0|Action,Adventure,...|Professor Albus D...|['wand', 'hogwart...|        David Yates|['Steve Kloves', ...|        J.K. Rowling|           2022|\n",
      "|The Unbearable We...|   7.1|    43000.0| Action,Comedy,Crime|In this action-pa...|['reference to ni...|       Tom Gormican|['Kevin Etten', '...|        Tom Gormican|           2022|\n",
      "|       Jurassic Park|   8.2|   958000.0|Action,Adventure,...|A pragmatic paleo...|['dinosaur', 'sci...|   Steven Spielberg|['David Koepp', '...|    Michael Crichton|           1993|\n",
      "|Doctor Strange in...|   7.2|   236000.0|Action,Adventure,...|Doctor Strange te...|['sequel', 'docto...|          Sam Raimi|['Stan Lee', 'Ste...|     Michael Waldron|           2022|\n",
      "|      No Time to Die|   7.3|   367000.0|Action,Adventure,...|James Bond has le...|['official james ...| Cary Joji Fukunaga|['Robert Wade', '...|         Neal Purvis|           2021|\n",
      "|          The Batman|   7.9|   521000.0|  Action,Crime,Drama|When a sadistic s...|['superhero', 'ba...|        Matt Reeves|['Peter Craig', '...|         Matt Reeves|           2022|\n",
      "|        Bullet Train|   0.0|        0.0|     Action,Thriller|Five assassins ab...|['train', 'assass...|       David Leitch|['Zak Olkewicz', ...|        Kôtarô Isaka|           2022|\n",
      "|        Bullet Train|   6.8|        1.3|  Action,Crime,Drama|Criminals plant a...|['blackmail', 'bu...|        Jun'ya Satô|   \"[\"\"Jun'ya Satô\"\"|    'Sunao Sakagami'| 'Ken Takakura'|\n",
      "|      Jurassic World|   6.9|   629000.0|Action,Adventure,...|A new theme park,...|['dinosaur', 'vel...|    Colin Trevorrow|['Amanda Silver',...|          Rick Jaffa|           2015|\n",
      "+--------------------+------+-----------+--------------------+--------------------+--------------------+-------------------+--------------------+--------------------+---------------+\n",
      "only showing top 20 rows\n",
      "\n"
     ]
    }
   ],
   "source": [
    "\n",
    "\n",
    "df = spark.read.csv(\"data/movies_clean.csv\", header=True, inferSchema=True)\n",
    "\n",
    "# replace \"['Action','Drama']\" to \"Action,Drama\"\n",
    "df = df.withColumn(\"Generes\", regexp_replace(df[\"Generes\"], \"[\\[\\]']\", \"\"))\n",
    "df = df.withColumn(\"Generes\", translate(df[\"Generes\"], \", \", \",\"))\n",
    "\n",
    "df.show()"
   ]
  },
  {
   "cell_type": "code",
   "execution_count": 33,
   "metadata": {},
   "outputs": [
    {
     "data": {
      "text/html": [
       "<div>\n",
       "<style scoped>\n",
       "    .dataframe tbody tr th:only-of-type {\n",
       "        vertical-align: middle;\n",
       "    }\n",
       "\n",
       "    .dataframe tbody tr th {\n",
       "        vertical-align: top;\n",
       "    }\n",
       "\n",
       "    .dataframe thead th {\n",
       "        text-align: right;\n",
       "    }\n",
       "</style>\n",
       "<table border=\"1\" class=\"dataframe\">\n",
       "  <thead>\n",
       "    <tr style=\"text-align: right;\">\n",
       "      <th></th>\n",
       "      <th>Genre</th>\n",
       "      <th>count</th>\n",
       "    </tr>\n",
       "  </thead>\n",
       "  <tbody>\n",
       "    <tr>\n",
       "      <th>0</th>\n",
       "      <td>Drama</td>\n",
       "      <td>12475</td>\n",
       "    </tr>\n",
       "    <tr>\n",
       "      <th>1</th>\n",
       "      <td>Action</td>\n",
       "      <td>7847</td>\n",
       "    </tr>\n",
       "    <tr>\n",
       "      <th>2</th>\n",
       "      <td>Comedy</td>\n",
       "      <td>6870</td>\n",
       "    </tr>\n",
       "    <tr>\n",
       "      <th>3</th>\n",
       "      <td>Crime</td>\n",
       "      <td>6050</td>\n",
       "    </tr>\n",
       "    <tr>\n",
       "      <th>4</th>\n",
       "      <td>Thriller</td>\n",
       "      <td>4974</td>\n",
       "    </tr>\n",
       "    <tr>\n",
       "      <th>5</th>\n",
       "      <td>Adventure</td>\n",
       "      <td>4454</td>\n",
       "    </tr>\n",
       "    <tr>\n",
       "      <th>6</th>\n",
       "      <td>Horror</td>\n",
       "      <td>3210</td>\n",
       "    </tr>\n",
       "    <tr>\n",
       "      <th>7</th>\n",
       "      <td>Romance</td>\n",
       "      <td>3157</td>\n",
       "    </tr>\n",
       "    <tr>\n",
       "      <th>8</th>\n",
       "      <td>Sci-Fi</td>\n",
       "      <td>2088</td>\n",
       "    </tr>\n",
       "    <tr>\n",
       "      <th>9</th>\n",
       "      <td>Mystery</td>\n",
       "      <td>2078</td>\n",
       "    </tr>\n",
       "  </tbody>\n",
       "</table>\n",
       "</div>"
      ],
      "text/plain": [
       "       Genre  count\n",
       "0      Drama  12475\n",
       "1     Action   7847\n",
       "2     Comedy   6870\n",
       "3      Crime   6050\n",
       "4   Thriller   4974\n",
       "5  Adventure   4454\n",
       "6     Horror   3210\n",
       "7    Romance   3157\n",
       "8     Sci-Fi   2088\n",
       "9    Mystery   2078"
      ]
     },
     "execution_count": 33,
     "metadata": {},
     "output_type": "execute_result"
    }
   ],
   "source": [
    "# explode Generes to a new column Genre\n",
    "df = df.select(df['movie title'], explode(split(df['Generes'],\",\")).alias('Genre'))\n",
    "\n",
    "df = df.groupBy(df['Genre']).count().orderBy('count', ascending=False)\n",
    "\n",
    "top_genres = df.limit(10).toPandas()\n",
    "top_genres\n"
   ]
  },
  {
   "cell_type": "code",
   "execution_count": 34,
   "metadata": {},
   "outputs": [
    {
     "data": {
      "image/png": "[encoded data removed]",
      "text/plain": [
       "<Figure size 640x480 with 1 Axes>"
      ]
     },
     "metadata": {},
     "output_type": "display_data"
    }
   ],
   "source": [
    "ax = top_genres.plot.barh(x='Genre', y='count',width=0.9, color=sns.color_palette('Set2',10))\n",
    "\n",
    "for i, v in enumerate(top_genres['count']):\n",
    "    ax.text(v + 50, i - 0.1, str(v), color='blue', fontweight='bold')\n",
    "\n",
    "plt.title('Top Genres')\n",
    "plt.show()"
   ]
  },
  {
   "cell_type": "markdown",
   "metadata": {},
   "source": [
    "# Keywords Analysis"
   ]
  },
  {
   "cell_type": "code",
   "execution_count": 27,
   "metadata": {},
   "outputs": [
    {
     "data": {
      "text/html": [
       "<div>\n",
       "<style scoped>\n",
       "    .dataframe tbody tr th:only-of-type {\n",
       "        vertical-align: middle;\n",
       "    }\n",
       "\n",
       "    .dataframe tbody tr th {\n",
       "        vertical-align: top;\n",
       "    }\n",
       "\n",
       "    .dataframe thead th {\n",
       "        text-align: right;\n",
       "    }\n",
       "</style>\n",
       "<table border=\"1\" class=\"dataframe\">\n",
       "  <thead>\n",
       "    <tr style=\"text-align: right;\">\n",
       "      <th></th>\n",
       "      <th>movie title</th>\n",
       "      <th>Rating</th>\n",
       "      <th>User Rating</th>\n",
       "      <th>Generes</th>\n",
       "      <th>Overview</th>\n",
       "      <th>Plot Kyeword</th>\n",
       "      <th>Director</th>\n",
       "      <th>Top 5 Casts</th>\n",
       "      <th>Writer</th>\n",
       "      <th>year</th>\n",
       "    </tr>\n",
       "  </thead>\n",
       "  <tbody>\n",
       "    <tr>\n",
       "      <th>0</th>\n",
       "      <td>Top Gun: Maverick</td>\n",
       "      <td>8.6</td>\n",
       "      <td>187000.0</td>\n",
       "      <td>['Action', 'Drama']</td>\n",
       "      <td>After more than thirty years of service as one...</td>\n",
       "      <td>fighterjet,sequel,u.s.navy,fighteraircraft,pil...</td>\n",
       "      <td>Joseph Kosinski</td>\n",
       "      <td>['Jack Epps Jr.', 'Peter Craig', 'Tom Cruise',...</td>\n",
       "      <td>Jim Cash</td>\n",
       "      <td>2022</td>\n",
       "    </tr>\n",
       "    <tr>\n",
       "      <th>1</th>\n",
       "      <td>Jurassic World Dominion</td>\n",
       "      <td>6.0</td>\n",
       "      <td>56000.0</td>\n",
       "      <td>['Action', 'Adventure', 'Sci-Fi']</td>\n",
       "      <td>Four years after the destruction of Isla Nubla...</td>\n",
       "      <td>dinosaur,jurassicpark,tyrannosaurusrex,velocir...</td>\n",
       "      <td>Colin Trevorrow</td>\n",
       "      <td>['Colin Trevorrow', 'Derek Connolly', 'Chris P...</td>\n",
       "      <td>Emily Carmichael</td>\n",
       "      <td>2022</td>\n",
       "    </tr>\n",
       "    <tr>\n",
       "      <th>2</th>\n",
       "      <td>Top Gun</td>\n",
       "      <td>6.9</td>\n",
       "      <td>380000.0</td>\n",
       "      <td>['Action', 'Drama']</td>\n",
       "      <td>As students at the United States Navy's elite ...</td>\n",
       "      <td>pilot,malecamaraderie,u.s.navy,grummanf14tomca...</td>\n",
       "      <td>Tony Scott</td>\n",
       "      <td>['Jack Epps Jr.', 'Ehud Yonay', 'Tom Cruise', ...</td>\n",
       "      <td>Jim Cash</td>\n",
       "      <td>1986</td>\n",
       "    </tr>\n",
       "  </tbody>\n",
       "</table>\n",
       "</div>"
      ],
      "text/plain": [
       "               movie title Rating User Rating  \\\n",
       "0        Top Gun: Maverick    8.6    187000.0   \n",
       "1  Jurassic World Dominion    6.0     56000.0   \n",
       "2                  Top Gun    6.9    380000.0   \n",
       "\n",
       "                             Generes  \\\n",
       "0                ['Action', 'Drama']   \n",
       "1  ['Action', 'Adventure', 'Sci-Fi']   \n",
       "2                ['Action', 'Drama']   \n",
       "\n",
       "                                            Overview  \\\n",
       "0  After more than thirty years of service as one...   \n",
       "1  Four years after the destruction of Isla Nubla...   \n",
       "2  As students at the United States Navy's elite ...   \n",
       "\n",
       "                                        Plot Kyeword         Director  \\\n",
       "0  fighterjet,sequel,u.s.navy,fighteraircraft,pil...  Joseph Kosinski   \n",
       "1  dinosaur,jurassicpark,tyrannosaurusrex,velocir...  Colin Trevorrow   \n",
       "2  pilot,malecamaraderie,u.s.navy,grummanf14tomca...       Tony Scott   \n",
       "\n",
       "                                         Top 5 Casts            Writer  year  \n",
       "0  ['Jack Epps Jr.', 'Peter Craig', 'Tom Cruise',...          Jim Cash  2022  \n",
       "1  ['Colin Trevorrow', 'Derek Connolly', 'Chris P...  Emily Carmichael  2022  \n",
       "2  ['Jack Epps Jr.', 'Ehud Yonay', 'Tom Cruise', ...          Jim Cash  1986  "
      ]
     },
     "execution_count": 27,
     "metadata": {},
     "output_type": "execute_result"
    }
   ],
   "source": [
    "df = spark.read.csv(\"data/movies_clean.csv\", header=True, inferSchema=True)\n",
    "\n",
    "df = df.withColumn(\"Plot Kyeword\", regexp_replace(df[\"Plot Kyeword\"], \"[\\[\\]']\", \"\"))\n",
    "df = df.withColumn(\"Plot Kyeword\", translate(df[\"Plot Kyeword\"], \", \", \",\"))\n",
    "df = df.filter(col('Plot Kyeword') != '')\n",
    "\n",
    "df.toPandas().head(3)"
   ]
  },
  {
   "cell_type": "code",
   "execution_count": 28,
   "metadata": {},
   "outputs": [
    {
     "data": {
      "text/html": [
       "<div>\n",
       "<style scoped>\n",
       "    .dataframe tbody tr th:only-of-type {\n",
       "        vertical-align: middle;\n",
       "    }\n",
       "\n",
       "    .dataframe tbody tr th {\n",
       "        vertical-align: top;\n",
       "    }\n",
       "\n",
       "    .dataframe thead th {\n",
       "        text-align: right;\n",
       "    }\n",
       "</style>\n",
       "<table border=\"1\" class=\"dataframe\">\n",
       "  <thead>\n",
       "    <tr style=\"text-align: right;\">\n",
       "      <th></th>\n",
       "      <th>Keywords</th>\n",
       "      <th>count</th>\n",
       "    </tr>\n",
       "  </thead>\n",
       "  <tbody>\n",
       "    <tr>\n",
       "      <th>0</th>\n",
       "      <td>murder</td>\n",
       "      <td>1174</td>\n",
       "    </tr>\n",
       "    <tr>\n",
       "      <th>1</th>\n",
       "      <td>femalenudity</td>\n",
       "      <td>1102</td>\n",
       "    </tr>\n",
       "    <tr>\n",
       "      <th>2</th>\n",
       "      <td>psychotronicfilm</td>\n",
       "      <td>936</td>\n",
       "    </tr>\n",
       "    <tr>\n",
       "      <th>3</th>\n",
       "      <td>revenge</td>\n",
       "      <td>628</td>\n",
       "    </tr>\n",
       "    <tr>\n",
       "      <th>4</th>\n",
       "      <td>basedonnovel</td>\n",
       "      <td>622</td>\n",
       "    </tr>\n",
       "    <tr>\n",
       "      <th>5</th>\n",
       "      <td>sexscene</td>\n",
       "      <td>610</td>\n",
       "    </tr>\n",
       "    <tr>\n",
       "      <th>6</th>\n",
       "      <td>police</td>\n",
       "      <td>605</td>\n",
       "    </tr>\n",
       "    <tr>\n",
       "      <th>7</th>\n",
       "      <td>love</td>\n",
       "      <td>540</td>\n",
       "    </tr>\n",
       "    <tr>\n",
       "      <th>8</th>\n",
       "      <td>violence</td>\n",
       "      <td>516</td>\n",
       "    </tr>\n",
       "    <tr>\n",
       "      <th>9</th>\n",
       "      <td>barechestedmale</td>\n",
       "      <td>507</td>\n",
       "    </tr>\n",
       "  </tbody>\n",
       "</table>\n",
       "</div>"
      ],
      "text/plain": [
       "           Keywords  count\n",
       "0            murder   1174\n",
       "1      femalenudity   1102\n",
       "2  psychotronicfilm    936\n",
       "3           revenge    628\n",
       "4      basedonnovel    622\n",
       "5          sexscene    610\n",
       "6            police    605\n",
       "7              love    540\n",
       "8          violence    516\n",
       "9   barechestedmale    507"
      ]
     },
     "execution_count": 28,
     "metadata": {},
     "output_type": "execute_result"
    }
   ],
   "source": [
    "# explode Generes to a new column Genre\n",
    "df = df.select(df['movie title'], explode(split(df['Plot Kyeword'],\",\")).alias('Keywords'))\n",
    "\n",
    "df = df.groupBy(df['Keywords']).count().orderBy('count', ascending=False)\n",
    "\n",
    "top_genres = df.limit(10).toPandas()\n",
    "top_genres"
   ]
  },
  {
   "cell_type": "code",
   "execution_count": 30,
   "metadata": {},
   "outputs": [
    {
     "data": {
      "image/png": "[encoded data removed]",
      "text/plain": [
       "<Figure size 640x480 with 1 Axes>"
      ]
     },
     "metadata": {},
     "output_type": "display_data"
    }
   ],
   "source": [
    "ax = top_genres.plot.barh(x='Keywords', y='count',width=0.9, color=sns.color_palette('Set2',10))\n",
    "\n",
    "for i, v in enumerate(top_genres['count']):\n",
    "    ax.text(v + 50, i - 0.1, str(v), color='blue', fontweight='bold')\n",
    "\n",
    "plt.title('Top Keywords')\n",
    "plt.show()"
   ]
  }
 ],
 "metadata": {
  "kernelspec": {
   "display_name": "NLP",
   "language": "python",
   "name": "python3"
  },
  "language_info": {
   "codemirror_mode": {
    "name": "ipython",
    "version": 3
   },
   "file_extension": ".py",
   "mimetype": "text/x-python",
   "name": "python",
   "nbconvert_exporter": "python",
   "pygments_lexer": "ipython3",
   "version": "3.10.14"
  }
 },
 "nbformat": 4,
 "nbformat_minor": 2
}
