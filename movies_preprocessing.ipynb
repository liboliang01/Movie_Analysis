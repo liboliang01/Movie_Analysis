{
 "cells": [
  {
   "cell_type": "markdown",
   "id": "d81633ef",
   "metadata": {},
   "source": [
    "# DATA PRE-PROCESSING\n",
    "1. Drop `Run Time` column\n",
    "2. Use 0 to replace '' in `Rating` Column\n",
    "3. Format `year` column to YYYY\n",
    "4. Drop `path` column\n",
    "5. Format `User Rating` column to number, eg. `187K` to `187000`\n",
    "\n",
    "Then save the cleaned data to `movies_clean.csv`."
   ]
  },
  {
   "cell_type": "code",
   "execution_count": 52,
   "id": "64ecc113",
   "metadata": {
    "execution": {
     "iopub.execute_input": "2023-04-25T13:07:01.229662Z",
     "iopub.status.busy": "2023-04-25T13:07:01.228831Z",
     "iopub.status.idle": "2023-04-25T13:07:01.240197Z",
     "shell.execute_reply": "2023-04-25T13:07:01.238635Z"
    },
    "id": "s-DcIAvLQ8Hg",
    "papermill": {
     "duration": 0.027083,
     "end_time": "2023-04-25T13:07:01.243212",
     "exception": false,
     "start_time": "2023-04-25T13:07:01.216129",
     "status": "completed"
    },
    "tags": []
   },
   "outputs": [],
   "source": [
    "import pandas as pd\n",
    "import numpy as np"
   ]
  },
  {
   "cell_type": "code",
   "execution_count": 53,
   "id": "d25403c4",
   "metadata": {
    "execution": {
     "iopub.execute_input": "2023-04-25T13:07:01.267482Z",
     "iopub.status.busy": "2023-04-25T13:07:01.266480Z",
     "iopub.status.idle": "2023-04-25T13:07:01.777341Z",
     "shell.execute_reply": "2023-04-25T13:07:01.775584Z"
    },
    "id": "qMDy0xfyRCit",
    "papermill": {
     "duration": 0.523632,
     "end_time": "2023-04-25T13:07:01.780304",
     "exception": false,
     "start_time": "2023-04-25T13:07:01.256672",
     "status": "completed"
    },
    "tags": []
   },
   "outputs": [],
   "source": [
    "df=pd.read_csv(\"./25k IMDb movie Dataset.csv\")"
   ]
  },
  {
   "cell_type": "code",
   "execution_count": 54,
   "id": "65156f71",
   "metadata": {
    "execution": {
     "iopub.execute_input": "2023-04-25T13:07:01.798227Z",
     "iopub.status.busy": "2023-04-25T13:07:01.797091Z",
     "iopub.status.idle": "2023-04-25T13:07:01.829464Z",
     "shell.execute_reply": "2023-04-25T13:07:01.828245Z"
    },
    "id": "yQ-t6giORhiB",
    "outputId": "5b4edafe-b048-4633-db3f-e3c6dc2263c6",
    "papermill": {
     "duration": 0.043692,
     "end_time": "2023-04-25T13:07:01.831851",
     "exception": false,
     "start_time": "2023-04-25T13:07:01.788159",
     "status": "completed"
    },
    "tags": []
   },
   "outputs": [
    {
     "data": {
      "text/html": [
       "<div>\n",
       "<style scoped>\n",
       "    .dataframe tbody tr th:only-of-type {\n",
       "        vertical-align: middle;\n",
       "    }\n",
       "\n",
       "    .dataframe tbody tr th {\n",
       "        vertical-align: top;\n",
       "    }\n",
       "\n",
       "    .dataframe thead th {\n",
       "        text-align: right;\n",
       "    }\n",
       "</style>\n",
       "<table border=\"1\" class=\"dataframe\">\n",
       "  <thead>\n",
       "    <tr style=\"text-align: right;\">\n",
       "      <th></th>\n",
       "      <th>movie title</th>\n",
       "      <th>Run Time</th>\n",
       "      <th>Rating</th>\n",
       "      <th>User Rating</th>\n",
       "      <th>Generes</th>\n",
       "      <th>Overview</th>\n",
       "      <th>Plot Kyeword</th>\n",
       "      <th>Director</th>\n",
       "      <th>Top 5 Casts</th>\n",
       "      <th>Writer</th>\n",
       "      <th>year</th>\n",
       "      <th>path</th>\n",
       "    </tr>\n",
       "  </thead>\n",
       "  <tbody>\n",
       "    <tr>\n",
       "      <th>0</th>\n",
       "      <td>Top Gun: Maverick</td>\n",
       "      <td>$170,000,000 (estimated)</td>\n",
       "      <td>8.6</td>\n",
       "      <td>187K</td>\n",
       "      <td>['Action', 'Drama']</td>\n",
       "      <td>After more than thirty years of service as one...</td>\n",
       "      <td>['fighter jet', 'sequel', 'u.s. navy', 'fighte...</td>\n",
       "      <td>Joseph Kosinski</td>\n",
       "      <td>['Jack Epps Jr.', 'Peter Craig', 'Tom Cruise',...</td>\n",
       "      <td>Jim Cash</td>\n",
       "      <td>-2022</td>\n",
       "      <td>/title/tt1745960/</td>\n",
       "    </tr>\n",
       "    <tr>\n",
       "      <th>1</th>\n",
       "      <td>Jurassic World Dominion</td>\n",
       "      <td>2 hours 27 minutes</td>\n",
       "      <td>6</td>\n",
       "      <td>56K</td>\n",
       "      <td>['Action', 'Adventure', 'Sci-Fi']</td>\n",
       "      <td>Four years after the destruction of Isla Nubla...</td>\n",
       "      <td>['dinosaur', 'jurassic park', 'tyrannosaurus r...</td>\n",
       "      <td>Colin Trevorrow</td>\n",
       "      <td>['Colin Trevorrow', 'Derek Connolly', 'Chris P...</td>\n",
       "      <td>Emily Carmichael</td>\n",
       "      <td>-2022</td>\n",
       "      <td>/title/tt8041270/</td>\n",
       "    </tr>\n",
       "    <tr>\n",
       "      <th>2</th>\n",
       "      <td>Top Gun</td>\n",
       "      <td>$15,000,000 (estimated)</td>\n",
       "      <td>6.9</td>\n",
       "      <td>380K</td>\n",
       "      <td>['Action', 'Drama']</td>\n",
       "      <td>As students at the United States Navy's elite ...</td>\n",
       "      <td>['pilot', 'male camaraderie', 'u.s. navy', 'gr...</td>\n",
       "      <td>Tony Scott</td>\n",
       "      <td>['Jack Epps Jr.', 'Ehud Yonay', 'Tom Cruise', ...</td>\n",
       "      <td>Jim Cash</td>\n",
       "      <td>-1986</td>\n",
       "      <td>/title/tt0092099/</td>\n",
       "    </tr>\n",
       "  </tbody>\n",
       "</table>\n",
       "</div>"
      ],
      "text/plain": [
       "               movie title                  Run Time Rating User Rating  \\\n",
       "0        Top Gun: Maverick  $170,000,000 (estimated)    8.6        187K   \n",
       "1  Jurassic World Dominion        2 hours 27 minutes      6         56K   \n",
       "2                  Top Gun   $15,000,000 (estimated)    6.9        380K   \n",
       "\n",
       "                             Generes  \\\n",
       "0                ['Action', 'Drama']   \n",
       "1  ['Action', 'Adventure', 'Sci-Fi']   \n",
       "2                ['Action', 'Drama']   \n",
       "\n",
       "                                            Overview  \\\n",
       "0  After more than thirty years of service as one...   \n",
       "1  Four years after the destruction of Isla Nubla...   \n",
       "2  As students at the United States Navy's elite ...   \n",
       "\n",
       "                                        Plot Kyeword         Director  \\\n",
       "0  ['fighter jet', 'sequel', 'u.s. navy', 'fighte...  Joseph Kosinski   \n",
       "1  ['dinosaur', 'jurassic park', 'tyrannosaurus r...  Colin Trevorrow   \n",
       "2  ['pilot', 'male camaraderie', 'u.s. navy', 'gr...       Tony Scott   \n",
       "\n",
       "                                         Top 5 Casts            Writer   year  \\\n",
       "0  ['Jack Epps Jr.', 'Peter Craig', 'Tom Cruise',...          Jim Cash  -2022   \n",
       "1  ['Colin Trevorrow', 'Derek Connolly', 'Chris P...  Emily Carmichael  -2022   \n",
       "2  ['Jack Epps Jr.', 'Ehud Yonay', 'Tom Cruise', ...          Jim Cash  -1986   \n",
       "\n",
       "                path  \n",
       "0  /title/tt1745960/  \n",
       "1  /title/tt8041270/  \n",
       "2  /title/tt0092099/  "
      ]
     },
     "execution_count": 54,
     "metadata": {},
     "output_type": "execute_result"
    }
   ],
   "source": [
    "df.head(3)"
   ]
  },
  {
   "cell_type": "code",
   "execution_count": 55,
   "id": "550db6ea",
   "metadata": {
    "execution": {
     "iopub.execute_input": "2023-04-25T13:07:01.849985Z",
     "iopub.status.busy": "2023-04-25T13:07:01.849543Z",
     "iopub.status.idle": "2023-04-25T13:07:01.860966Z",
     "shell.execute_reply": "2023-04-25T13:07:01.860031Z"
    },
    "id": "Dyj7fNHlRpNy",
    "papermill": {
     "duration": 0.023288,
     "end_time": "2023-04-25T13:07:01.863447",
     "exception": false,
     "start_time": "2023-04-25T13:07:01.840159",
     "status": "completed"
    },
    "tags": []
   },
   "outputs": [],
   "source": [
    "df=df.drop(columns=['Run Time'])"
   ]
  },
  {
   "cell_type": "code",
   "execution_count": 56,
   "id": "0d1cbc94",
   "metadata": {
    "execution": {
     "iopub.execute_input": "2023-04-25T13:07:01.881254Z",
     "iopub.status.busy": "2023-04-25T13:07:01.880843Z",
     "iopub.status.idle": "2023-04-25T13:07:01.897839Z",
     "shell.execute_reply": "2023-04-25T13:07:01.896721Z"
    },
    "id": "gCSaWiTESSgJ",
    "outputId": "37bed0ed-4a73-40c0-a1a5-4b88307ee954",
    "papermill": {
     "duration": 0.028627,
     "end_time": "2023-04-25T13:07:01.900218",
     "exception": false,
     "start_time": "2023-04-25T13:07:01.871591",
     "status": "completed"
    },
    "tags": []
   },
   "outputs": [
    {
     "data": {
      "text/html": [
       "<div>\n",
       "<style scoped>\n",
       "    .dataframe tbody tr th:only-of-type {\n",
       "        vertical-align: middle;\n",
       "    }\n",
       "\n",
       "    .dataframe tbody tr th {\n",
       "        vertical-align: top;\n",
       "    }\n",
       "\n",
       "    .dataframe thead th {\n",
       "        text-align: right;\n",
       "    }\n",
       "</style>\n",
       "<table border=\"1\" class=\"dataframe\">\n",
       "  <thead>\n",
       "    <tr style=\"text-align: right;\">\n",
       "      <th></th>\n",
       "      <th>movie title</th>\n",
       "      <th>Rating</th>\n",
       "      <th>User Rating</th>\n",
       "      <th>Generes</th>\n",
       "      <th>Overview</th>\n",
       "      <th>Plot Kyeword</th>\n",
       "      <th>Director</th>\n",
       "      <th>Top 5 Casts</th>\n",
       "      <th>Writer</th>\n",
       "      <th>year</th>\n",
       "      <th>path</th>\n",
       "    </tr>\n",
       "  </thead>\n",
       "  <tbody>\n",
       "    <tr>\n",
       "      <th>0</th>\n",
       "      <td>Top Gun: Maverick</td>\n",
       "      <td>8.6</td>\n",
       "      <td>187K</td>\n",
       "      <td>['Action', 'Drama']</td>\n",
       "      <td>After more than thirty years of service as one...</td>\n",
       "      <td>['fighter jet', 'sequel', 'u.s. navy', 'fighte...</td>\n",
       "      <td>Joseph Kosinski</td>\n",
       "      <td>['Jack Epps Jr.', 'Peter Craig', 'Tom Cruise',...</td>\n",
       "      <td>Jim Cash</td>\n",
       "      <td>-2022</td>\n",
       "      <td>/title/tt1745960/</td>\n",
       "    </tr>\n",
       "    <tr>\n",
       "      <th>1</th>\n",
       "      <td>Jurassic World Dominion</td>\n",
       "      <td>6</td>\n",
       "      <td>56K</td>\n",
       "      <td>['Action', 'Adventure', 'Sci-Fi']</td>\n",
       "      <td>Four years after the destruction of Isla Nubla...</td>\n",
       "      <td>['dinosaur', 'jurassic park', 'tyrannosaurus r...</td>\n",
       "      <td>Colin Trevorrow</td>\n",
       "      <td>['Colin Trevorrow', 'Derek Connolly', 'Chris P...</td>\n",
       "      <td>Emily Carmichael</td>\n",
       "      <td>-2022</td>\n",
       "      <td>/title/tt8041270/</td>\n",
       "    </tr>\n",
       "    <tr>\n",
       "      <th>2</th>\n",
       "      <td>Top Gun</td>\n",
       "      <td>6.9</td>\n",
       "      <td>380K</td>\n",
       "      <td>['Action', 'Drama']</td>\n",
       "      <td>As students at the United States Navy's elite ...</td>\n",
       "      <td>['pilot', 'male camaraderie', 'u.s. navy', 'gr...</td>\n",
       "      <td>Tony Scott</td>\n",
       "      <td>['Jack Epps Jr.', 'Ehud Yonay', 'Tom Cruise', ...</td>\n",
       "      <td>Jim Cash</td>\n",
       "      <td>-1986</td>\n",
       "      <td>/title/tt0092099/</td>\n",
       "    </tr>\n",
       "  </tbody>\n",
       "</table>\n",
       "</div>"
      ],
      "text/plain": [
       "               movie title Rating User Rating  \\\n",
       "0        Top Gun: Maverick    8.6        187K   \n",
       "1  Jurassic World Dominion      6         56K   \n",
       "2                  Top Gun    6.9        380K   \n",
       "\n",
       "                             Generes  \\\n",
       "0                ['Action', 'Drama']   \n",
       "1  ['Action', 'Adventure', 'Sci-Fi']   \n",
       "2                ['Action', 'Drama']   \n",
       "\n",
       "                                            Overview  \\\n",
       "0  After more than thirty years of service as one...   \n",
       "1  Four years after the destruction of Isla Nubla...   \n",
       "2  As students at the United States Navy's elite ...   \n",
       "\n",
       "                                        Plot Kyeword         Director  \\\n",
       "0  ['fighter jet', 'sequel', 'u.s. navy', 'fighte...  Joseph Kosinski   \n",
       "1  ['dinosaur', 'jurassic park', 'tyrannosaurus r...  Colin Trevorrow   \n",
       "2  ['pilot', 'male camaraderie', 'u.s. navy', 'gr...       Tony Scott   \n",
       "\n",
       "                                         Top 5 Casts            Writer   year  \\\n",
       "0  ['Jack Epps Jr.', 'Peter Craig', 'Tom Cruise',...          Jim Cash  -2022   \n",
       "1  ['Colin Trevorrow', 'Derek Connolly', 'Chris P...  Emily Carmichael  -2022   \n",
       "2  ['Jack Epps Jr.', 'Ehud Yonay', 'Tom Cruise', ...          Jim Cash  -1986   \n",
       "\n",
       "                path  \n",
       "0  /title/tt1745960/  \n",
       "1  /title/tt8041270/  \n",
       "2  /title/tt0092099/  "
      ]
     },
     "execution_count": 56,
     "metadata": {},
     "output_type": "execute_result"
    }
   ],
   "source": [
    "df.head(3)"
   ]
  },
  {
   "cell_type": "code",
   "execution_count": 57,
   "id": "86783d36",
   "metadata": {
    "execution": {
     "iopub.execute_input": "2023-04-25T13:07:01.919093Z",
     "iopub.status.busy": "2023-04-25T13:07:01.918641Z",
     "iopub.status.idle": "2023-04-25T13:07:01.954237Z",
     "shell.execute_reply": "2023-04-25T13:07:01.953330Z"
    },
    "id": "BBirwPGxSTiY",
    "outputId": "a52cc3f7-baab-47ba-e6d8-b46c9c0ebc4f",
    "papermill": {
     "duration": 0.048469,
     "end_time": "2023-04-25T13:07:01.957195",
     "exception": false,
     "start_time": "2023-04-25T13:07:01.908726",
     "status": "completed"
    },
    "tags": []
   },
   "outputs": [
    {
     "name": "stdout",
     "output_type": "stream",
     "text": [
      "<class 'pandas.core.frame.DataFrame'>\n",
      "RangeIndex: 24402 entries, 0 to 24401\n",
      "Data columns (total 11 columns):\n",
      " #   Column        Non-Null Count  Dtype \n",
      "---  ------        --------------  ----- \n",
      " 0   movie title   24402 non-null  object\n",
      " 1   Rating        24402 non-null  object\n",
      " 2   User Rating   24402 non-null  object\n",
      " 3   Generes       24402 non-null  object\n",
      " 4   Overview      24158 non-null  object\n",
      " 5   Plot Kyeword  24402 non-null  object\n",
      " 6   Director      24402 non-null  object\n",
      " 7   Top 5 Casts   24402 non-null  object\n",
      " 8   Writer        24402 non-null  object\n",
      " 9   year          23624 non-null  object\n",
      " 10  path          24402 non-null  object\n",
      "dtypes: object(11)\n",
      "memory usage: 2.0+ MB\n"
     ]
    }
   ],
   "source": [
    "df.info()"
   ]
  },
  {
   "cell_type": "code",
   "execution_count": 58,
   "id": "b4130413",
   "metadata": {
    "execution": {
     "iopub.execute_input": "2023-04-25T13:07:01.976355Z",
     "iopub.status.busy": "2023-04-25T13:07:01.975818Z",
     "iopub.status.idle": "2023-04-25T13:07:01.997159Z",
     "shell.execute_reply": "2023-04-25T13:07:01.995919Z"
    },
    "id": "FDI6VctNSa9h",
    "papermill": {
     "duration": 0.034345,
     "end_time": "2023-04-25T13:07:02.000059",
     "exception": false,
     "start_time": "2023-04-25T13:07:01.965714",
     "status": "completed"
    },
    "tags": []
   },
   "outputs": [],
   "source": [
    "df['Rating']=df['Rating'].str.replace(\"no-rating\",\"0\")"
   ]
  },
  {
   "cell_type": "code",
   "execution_count": 59,
   "id": "9aad9c35",
   "metadata": {
    "execution": {
     "iopub.execute_input": "2023-04-25T13:07:02.020935Z",
     "iopub.status.busy": "2023-04-25T13:07:02.020216Z",
     "iopub.status.idle": "2023-04-25T13:07:02.039167Z",
     "shell.execute_reply": "2023-04-25T13:07:02.037837Z"
    },
    "id": "eqQEpSsvUcGE",
    "papermill": {
     "duration": 0.031963,
     "end_time": "2023-04-25T13:07:02.041954",
     "exception": false,
     "start_time": "2023-04-25T13:07:02.009991",
     "status": "completed"
    },
    "tags": []
   },
   "outputs": [],
   "source": [
    "df['Rating']=pd.to_numeric(df['Rating'])"
   ]
  },
  {
   "cell_type": "code",
   "execution_count": 60,
   "id": "704fc030",
   "metadata": {
    "execution": {
     "iopub.execute_input": "2023-04-25T13:07:02.060972Z",
     "iopub.status.busy": "2023-04-25T13:07:02.060555Z",
     "iopub.status.idle": "2023-04-25T13:07:02.088316Z",
     "shell.execute_reply": "2023-04-25T13:07:02.086354Z"
    },
    "id": "7LVOUOIEVCDh",
    "outputId": "6ac51d69-a19c-45ce-b050-94511a82a0da",
    "papermill": {
     "duration": 0.040524,
     "end_time": "2023-04-25T13:07:02.091013",
     "exception": false,
     "start_time": "2023-04-25T13:07:02.050489",
     "status": "completed"
    },
    "tags": []
   },
   "outputs": [
    {
     "name": "stdout",
     "output_type": "stream",
     "text": [
      "<class 'pandas.core.frame.DataFrame'>\n",
      "RangeIndex: 24402 entries, 0 to 24401\n",
      "Data columns (total 11 columns):\n",
      " #   Column        Non-Null Count  Dtype  \n",
      "---  ------        --------------  -----  \n",
      " 0   movie title   24402 non-null  object \n",
      " 1   Rating        24402 non-null  float64\n",
      " 2   User Rating   24402 non-null  object \n",
      " 3   Generes       24402 non-null  object \n",
      " 4   Overview      24158 non-null  object \n",
      " 5   Plot Kyeword  24402 non-null  object \n",
      " 6   Director      24402 non-null  object \n",
      " 7   Top 5 Casts   24402 non-null  object \n",
      " 8   Writer        24402 non-null  object \n",
      " 9   year          23624 non-null  object \n",
      " 10  path          24402 non-null  object \n",
      "dtypes: float64(1), object(10)\n",
      "memory usage: 2.0+ MB\n"
     ]
    }
   ],
   "source": [
    "df.info()"
   ]
  },
  {
   "cell_type": "code",
   "execution_count": 61,
   "id": "0ce566d3",
   "metadata": {
    "execution": {
     "iopub.execute_input": "2023-04-25T13:07:02.110596Z",
     "iopub.status.busy": "2023-04-25T13:07:02.109456Z",
     "iopub.status.idle": "2023-04-25T13:07:02.139534Z",
     "shell.execute_reply": "2023-04-25T13:07:02.138247Z"
    },
    "id": "M4IvPsucVIhy",
    "papermill": {
     "duration": 0.042683,
     "end_time": "2023-04-25T13:07:02.142283",
     "exception": false,
     "start_time": "2023-04-25T13:07:02.099600",
     "status": "completed"
    },
    "tags": []
   },
   "outputs": [],
   "source": [
    "df['User Rating']=df['User Rating'].str.replace(\"K\",\"000\")\n",
    "df['User Rating']=df['User Rating'].str.replace(\"M\",\"000000\")"
   ]
  },
  {
   "cell_type": "code",
   "execution_count": 62,
   "id": "131675f6",
   "metadata": {
    "execution": {
     "iopub.execute_input": "2023-04-25T13:07:02.161992Z",
     "iopub.status.busy": "2023-04-25T13:07:02.160624Z",
     "iopub.status.idle": "2023-04-25T13:07:02.183503Z",
     "shell.execute_reply": "2023-04-25T13:07:02.182273Z"
    },
    "id": "By9LnrzwWLLM",
    "papermill": {
     "duration": 0.035345,
     "end_time": "2023-04-25T13:07:02.186190",
     "exception": false,
     "start_time": "2023-04-25T13:07:02.150845",
     "status": "completed"
    },
    "tags": []
   },
   "outputs": [],
   "source": [
    "df['User Rating']=pd.to_numeric(df['User Rating'])"
   ]
  },
  {
   "cell_type": "code",
   "execution_count": 63,
   "id": "3bc6d6c9",
   "metadata": {
    "execution": {
     "iopub.execute_input": "2023-04-25T13:07:02.205344Z",
     "iopub.status.busy": "2023-04-25T13:07:02.204405Z",
     "iopub.status.idle": "2023-04-25T13:07:02.231254Z",
     "shell.execute_reply": "2023-04-25T13:07:02.229837Z"
    },
    "id": "v3_BGn80WORM",
    "outputId": "2d8325ef-4839-4098-b6d9-e26c943b7bff",
    "papermill": {
     "duration": 0.039218,
     "end_time": "2023-04-25T13:07:02.233874",
     "exception": false,
     "start_time": "2023-04-25T13:07:02.194656",
     "status": "completed"
    },
    "tags": []
   },
   "outputs": [
    {
     "name": "stdout",
     "output_type": "stream",
     "text": [
      "<class 'pandas.core.frame.DataFrame'>\n",
      "RangeIndex: 24402 entries, 0 to 24401\n",
      "Data columns (total 11 columns):\n",
      " #   Column        Non-Null Count  Dtype  \n",
      "---  ------        --------------  -----  \n",
      " 0   movie title   24402 non-null  object \n",
      " 1   Rating        24402 non-null  float64\n",
      " 2   User Rating   24402 non-null  float64\n",
      " 3   Generes       24402 non-null  object \n",
      " 4   Overview      24158 non-null  object \n",
      " 5   Plot Kyeword  24402 non-null  object \n",
      " 6   Director      24402 non-null  object \n",
      " 7   Top 5 Casts   24402 non-null  object \n",
      " 8   Writer        24402 non-null  object \n",
      " 9   year          23624 non-null  object \n",
      " 10  path          24402 non-null  object \n",
      "dtypes: float64(2), object(9)\n",
      "memory usage: 2.0+ MB\n"
     ]
    }
   ],
   "source": [
    "df.info(3)"
   ]
  },
  {
   "cell_type": "code",
   "execution_count": 64,
   "id": "b286ae2d",
   "metadata": {
    "execution": {
     "iopub.execute_input": "2023-04-25T13:07:02.252614Z",
     "iopub.status.busy": "2023-04-25T13:07:02.252193Z",
     "iopub.status.idle": "2023-04-25T13:07:02.269214Z",
     "shell.execute_reply": "2023-04-25T13:07:02.268046Z"
    },
    "id": "Ja7F-ufKYjyp",
    "outputId": "efbb174d-7ef0-4eff-96e1-3167c3861d82",
    "papermill": {
     "duration": 0.029416,
     "end_time": "2023-04-25T13:07:02.271659",
     "exception": false,
     "start_time": "2023-04-25T13:07:02.242243",
     "status": "completed"
    },
    "tags": []
   },
   "outputs": [
    {
     "data": {
      "text/html": [
       "<div>\n",
       "<style scoped>\n",
       "    .dataframe tbody tr th:only-of-type {\n",
       "        vertical-align: middle;\n",
       "    }\n",
       "\n",
       "    .dataframe tbody tr th {\n",
       "        vertical-align: top;\n",
       "    }\n",
       "\n",
       "    .dataframe thead th {\n",
       "        text-align: right;\n",
       "    }\n",
       "</style>\n",
       "<table border=\"1\" class=\"dataframe\">\n",
       "  <thead>\n",
       "    <tr style=\"text-align: right;\">\n",
       "      <th></th>\n",
       "      <th>movie title</th>\n",
       "      <th>Rating</th>\n",
       "      <th>User Rating</th>\n",
       "      <th>Generes</th>\n",
       "      <th>Overview</th>\n",
       "      <th>Plot Kyeword</th>\n",
       "      <th>Director</th>\n",
       "      <th>Top 5 Casts</th>\n",
       "      <th>Writer</th>\n",
       "      <th>year</th>\n",
       "      <th>path</th>\n",
       "    </tr>\n",
       "  </thead>\n",
       "  <tbody>\n",
       "    <tr>\n",
       "      <th>0</th>\n",
       "      <td>Top Gun: Maverick</td>\n",
       "      <td>8.6</td>\n",
       "      <td>187000.0</td>\n",
       "      <td>['Action', 'Drama']</td>\n",
       "      <td>After more than thirty years of service as one...</td>\n",
       "      <td>['fighter jet', 'sequel', 'u.s. navy', 'fighte...</td>\n",
       "      <td>Joseph Kosinski</td>\n",
       "      <td>['Jack Epps Jr.', 'Peter Craig', 'Tom Cruise',...</td>\n",
       "      <td>Jim Cash</td>\n",
       "      <td>-2022</td>\n",
       "      <td>/title/tt1745960/</td>\n",
       "    </tr>\n",
       "    <tr>\n",
       "      <th>1</th>\n",
       "      <td>Jurassic World Dominion</td>\n",
       "      <td>6.0</td>\n",
       "      <td>56000.0</td>\n",
       "      <td>['Action', 'Adventure', 'Sci-Fi']</td>\n",
       "      <td>Four years after the destruction of Isla Nubla...</td>\n",
       "      <td>['dinosaur', 'jurassic park', 'tyrannosaurus r...</td>\n",
       "      <td>Colin Trevorrow</td>\n",
       "      <td>['Colin Trevorrow', 'Derek Connolly', 'Chris P...</td>\n",
       "      <td>Emily Carmichael</td>\n",
       "      <td>-2022</td>\n",
       "      <td>/title/tt8041270/</td>\n",
       "    </tr>\n",
       "    <tr>\n",
       "      <th>2</th>\n",
       "      <td>Top Gun</td>\n",
       "      <td>6.9</td>\n",
       "      <td>380000.0</td>\n",
       "      <td>['Action', 'Drama']</td>\n",
       "      <td>As students at the United States Navy's elite ...</td>\n",
       "      <td>['pilot', 'male camaraderie', 'u.s. navy', 'gr...</td>\n",
       "      <td>Tony Scott</td>\n",
       "      <td>['Jack Epps Jr.', 'Ehud Yonay', 'Tom Cruise', ...</td>\n",
       "      <td>Jim Cash</td>\n",
       "      <td>-1986</td>\n",
       "      <td>/title/tt0092099/</td>\n",
       "    </tr>\n",
       "  </tbody>\n",
       "</table>\n",
       "</div>"
      ],
      "text/plain": [
       "               movie title  Rating  User Rating  \\\n",
       "0        Top Gun: Maverick     8.6     187000.0   \n",
       "1  Jurassic World Dominion     6.0      56000.0   \n",
       "2                  Top Gun     6.9     380000.0   \n",
       "\n",
       "                             Generes  \\\n",
       "0                ['Action', 'Drama']   \n",
       "1  ['Action', 'Adventure', 'Sci-Fi']   \n",
       "2                ['Action', 'Drama']   \n",
       "\n",
       "                                            Overview  \\\n",
       "0  After more than thirty years of service as one...   \n",
       "1  Four years after the destruction of Isla Nubla...   \n",
       "2  As students at the United States Navy's elite ...   \n",
       "\n",
       "                                        Plot Kyeword         Director  \\\n",
       "0  ['fighter jet', 'sequel', 'u.s. navy', 'fighte...  Joseph Kosinski   \n",
       "1  ['dinosaur', 'jurassic park', 'tyrannosaurus r...  Colin Trevorrow   \n",
       "2  ['pilot', 'male camaraderie', 'u.s. navy', 'gr...       Tony Scott   \n",
       "\n",
       "                                         Top 5 Casts            Writer   year  \\\n",
       "0  ['Jack Epps Jr.', 'Peter Craig', 'Tom Cruise',...          Jim Cash  -2022   \n",
       "1  ['Colin Trevorrow', 'Derek Connolly', 'Chris P...  Emily Carmichael  -2022   \n",
       "2  ['Jack Epps Jr.', 'Ehud Yonay', 'Tom Cruise', ...          Jim Cash  -1986   \n",
       "\n",
       "                path  \n",
       "0  /title/tt1745960/  \n",
       "1  /title/tt8041270/  \n",
       "2  /title/tt0092099/  "
      ]
     },
     "execution_count": 64,
     "metadata": {},
     "output_type": "execute_result"
    }
   ],
   "source": [
    "df.head(3)"
   ]
  },
  {
   "cell_type": "code",
   "execution_count": 65,
   "id": "66d06ae5",
   "metadata": {
    "execution": {
     "iopub.execute_input": "2023-04-25T13:07:02.290987Z",
     "iopub.status.busy": "2023-04-25T13:07:02.290613Z",
     "iopub.status.idle": "2023-04-25T13:07:02.301222Z",
     "shell.execute_reply": "2023-04-25T13:07:02.300084Z"
    },
    "id": "uTyQqSf7aaCK",
    "papermill": {
     "duration": 0.023244,
     "end_time": "2023-04-25T13:07:02.303705",
     "exception": false,
     "start_time": "2023-04-25T13:07:02.280461",
     "status": "completed"
    },
    "tags": []
   },
   "outputs": [],
   "source": [
    "df=df.drop(\"path\",axis=1)"
   ]
  },
  {
   "cell_type": "code",
   "execution_count": 66,
   "id": "a7103099",
   "metadata": {
    "execution": {
     "iopub.execute_input": "2023-04-25T13:07:02.330231Z",
     "iopub.status.busy": "2023-04-25T13:07:02.328846Z",
     "iopub.status.idle": "2023-04-25T13:07:02.348559Z",
     "shell.execute_reply": "2023-04-25T13:07:02.347299Z"
    },
    "id": "uf4nsHbaa7GW",
    "outputId": "8be4e83f-d006-4b56-a9bf-2a7fe14aad24",
    "papermill": {
     "duration": 0.036386,
     "end_time": "2023-04-25T13:07:02.352029",
     "exception": false,
     "start_time": "2023-04-25T13:07:02.315643",
     "status": "completed"
    },
    "tags": []
   },
   "outputs": [
    {
     "data": {
      "text/html": [
       "<div>\n",
       "<style scoped>\n",
       "    .dataframe tbody tr th:only-of-type {\n",
       "        vertical-align: middle;\n",
       "    }\n",
       "\n",
       "    .dataframe tbody tr th {\n",
       "        vertical-align: top;\n",
       "    }\n",
       "\n",
       "    .dataframe thead th {\n",
       "        text-align: right;\n",
       "    }\n",
       "</style>\n",
       "<table border=\"1\" class=\"dataframe\">\n",
       "  <thead>\n",
       "    <tr style=\"text-align: right;\">\n",
       "      <th></th>\n",
       "      <th>movie title</th>\n",
       "      <th>Rating</th>\n",
       "      <th>User Rating</th>\n",
       "      <th>Generes</th>\n",
       "      <th>Overview</th>\n",
       "      <th>Plot Kyeword</th>\n",
       "      <th>Director</th>\n",
       "      <th>Top 5 Casts</th>\n",
       "      <th>Writer</th>\n",
       "      <th>year</th>\n",
       "    </tr>\n",
       "  </thead>\n",
       "  <tbody>\n",
       "    <tr>\n",
       "      <th>0</th>\n",
       "      <td>Top Gun: Maverick</td>\n",
       "      <td>8.6</td>\n",
       "      <td>187000.0</td>\n",
       "      <td>['Action', 'Drama']</td>\n",
       "      <td>After more than thirty years of service as one...</td>\n",
       "      <td>['fighter jet', 'sequel', 'u.s. navy', 'fighte...</td>\n",
       "      <td>Joseph Kosinski</td>\n",
       "      <td>['Jack Epps Jr.', 'Peter Craig', 'Tom Cruise',...</td>\n",
       "      <td>Jim Cash</td>\n",
       "      <td>-2022</td>\n",
       "    </tr>\n",
       "    <tr>\n",
       "      <th>1</th>\n",
       "      <td>Jurassic World Dominion</td>\n",
       "      <td>6.0</td>\n",
       "      <td>56000.0</td>\n",
       "      <td>['Action', 'Adventure', 'Sci-Fi']</td>\n",
       "      <td>Four years after the destruction of Isla Nubla...</td>\n",
       "      <td>['dinosaur', 'jurassic park', 'tyrannosaurus r...</td>\n",
       "      <td>Colin Trevorrow</td>\n",
       "      <td>['Colin Trevorrow', 'Derek Connolly', 'Chris P...</td>\n",
       "      <td>Emily Carmichael</td>\n",
       "      <td>-2022</td>\n",
       "    </tr>\n",
       "    <tr>\n",
       "      <th>2</th>\n",
       "      <td>Top Gun</td>\n",
       "      <td>6.9</td>\n",
       "      <td>380000.0</td>\n",
       "      <td>['Action', 'Drama']</td>\n",
       "      <td>As students at the United States Navy's elite ...</td>\n",
       "      <td>['pilot', 'male camaraderie', 'u.s. navy', 'gr...</td>\n",
       "      <td>Tony Scott</td>\n",
       "      <td>['Jack Epps Jr.', 'Ehud Yonay', 'Tom Cruise', ...</td>\n",
       "      <td>Jim Cash</td>\n",
       "      <td>-1986</td>\n",
       "    </tr>\n",
       "  </tbody>\n",
       "</table>\n",
       "</div>"
      ],
      "text/plain": [
       "               movie title  Rating  User Rating  \\\n",
       "0        Top Gun: Maverick     8.6     187000.0   \n",
       "1  Jurassic World Dominion     6.0      56000.0   \n",
       "2                  Top Gun     6.9     380000.0   \n",
       "\n",
       "                             Generes  \\\n",
       "0                ['Action', 'Drama']   \n",
       "1  ['Action', 'Adventure', 'Sci-Fi']   \n",
       "2                ['Action', 'Drama']   \n",
       "\n",
       "                                            Overview  \\\n",
       "0  After more than thirty years of service as one...   \n",
       "1  Four years after the destruction of Isla Nubla...   \n",
       "2  As students at the United States Navy's elite ...   \n",
       "\n",
       "                                        Plot Kyeword         Director  \\\n",
       "0  ['fighter jet', 'sequel', 'u.s. navy', 'fighte...  Joseph Kosinski   \n",
       "1  ['dinosaur', 'jurassic park', 'tyrannosaurus r...  Colin Trevorrow   \n",
       "2  ['pilot', 'male camaraderie', 'u.s. navy', 'gr...       Tony Scott   \n",
       "\n",
       "                                         Top 5 Casts            Writer   year  \n",
       "0  ['Jack Epps Jr.', 'Peter Craig', 'Tom Cruise',...          Jim Cash  -2022  \n",
       "1  ['Colin Trevorrow', 'Derek Connolly', 'Chris P...  Emily Carmichael  -2022  \n",
       "2  ['Jack Epps Jr.', 'Ehud Yonay', 'Tom Cruise', ...          Jim Cash  -1986  "
      ]
     },
     "execution_count": 66,
     "metadata": {},
     "output_type": "execute_result"
    }
   ],
   "source": [
    "df.head(3)"
   ]
  },
  {
   "cell_type": "code",
   "execution_count": 67,
   "id": "32ce6641",
   "metadata": {
    "execution": {
     "iopub.execute_input": "2023-04-25T13:07:02.382169Z",
     "iopub.status.busy": "2023-04-25T13:07:02.381666Z",
     "iopub.status.idle": "2023-04-25T13:07:02.403895Z",
     "shell.execute_reply": "2023-04-25T13:07:02.402668Z"
    },
    "id": "uW2oSnFWa9Sv",
    "papermill": {
     "duration": 0.039098,
     "end_time": "2023-04-25T13:07:02.407253",
     "exception": false,
     "start_time": "2023-04-25T13:07:02.368155",
     "status": "completed"
    },
    "tags": []
   },
   "outputs": [],
   "source": [
    "df['year']=df['year'].str.replace(\"-\",\"\")"
   ]
  },
  {
   "cell_type": "code",
   "execution_count": 68,
   "id": "37e7c405",
   "metadata": {
    "execution": {
     "iopub.execute_input": "2023-04-25T13:07:02.430366Z",
     "iopub.status.busy": "2023-04-25T13:07:02.429486Z",
     "iopub.status.idle": "2023-04-25T13:07:02.440634Z",
     "shell.execute_reply": "2023-04-25T13:07:02.439354Z"
    },
    "id": "zVgJQVuucOX0",
    "outputId": "c59bdf4f-5d5b-4da4-e2ae-c6349d2a98ce",
    "papermill": {
     "duration": 0.02417,
     "end_time": "2023-04-25T13:07:02.443044",
     "exception": false,
     "start_time": "2023-04-25T13:07:02.418874",
     "status": "completed"
    },
    "tags": []
   },
   "outputs": [
    {
     "data": {
      "text/plain": [
       "array(['2022', '1986', '1993', '2021', '2015', '2018', '(I) (2022)',\n",
       "       '1997', '1984', '2001', '1977', '2019', '2003', '1996', '1999',\n",
       "       '2008', '2017', '2010', '2005', '2023', '1989', '2011', '1995',\n",
       "       '(I) (2021)', '2009', '2020', '2014', '2000', '2002', '1983',\n",
       "       '2012', '(I) (2015)', '2013', '1988', '2006', '2016', '1982',\n",
       "       '1987', '(I) (2011)', '(I) (2013)', '(II) (2020)', '2007',\n",
       "       '(I) (1996)', '1991', '2004', '1994', '1998', '(I) (2019)',\n",
       "       '(II) (2016)', '(I) (2014)', '(I) (2010)', '1990', '(I) (2008)',\n",
       "       '1992', '1978', '(I) (2018)', '(I) (2017)', '(I) (2020)', '1962',\n",
       "       '(IV) (2020)', '1976', '(I) (2016)', '(I) (2009)', '1979',\n",
       "       '(I) (2007)', '(I) (1990)', '1980', nan, '1985', '1964', '1981',\n",
       "       '(II) (2019)', '(IV) (2021)', '1968', '1971', '1974', '1959',\n",
       "       '1973', '1963', '(I) (2006)', '1965', '1969', '(IX)', '1967',\n",
       "       '(II) (2021)', '2024', '(I) (1998)', '(II) (2015)', '(III) (2021)',\n",
       "       '(II) (2014)', '(II) (2013)', '(II) (1967)', '(II) (2022)', '1972',\n",
       "       '(I) (1995)', '1961', '1915', '1966', '(I) (1999)', '(I) (2012)',\n",
       "       '(II) (2018)', '(II) (2017)', '1953', '(IV)', '(III) (2013)',\n",
       "       '(III) (2017)', '1975', '1970', '1937', '(I) (2004)',\n",
       "       '(III) (2012)', '(I) (1984)', '1952', '(II) (2012)', '(III)',\n",
       "       '(II)', '1938', '(XI)', '1960', '1932', '2025', '(I) (1970)',\n",
       "       '(II) (2005)', '1954', '1949', '1926', '1948', '1958',\n",
       "       '(I) (2002)', '1950', '1957', '(III) (2018)', '(XVIII)', '(V)',\n",
       "       '1951', '(I)', '(I) (1997)', '2027', '(I) (2000)', '(I) (2003)',\n",
       "       '1940', '(I) (1992)', '1924', '2028', '(VIII)', '1941', '1934',\n",
       "       '1927', '(XXVII)', '1942', '1955', '(I) (1993)', '(V) (2021)',\n",
       "       '1935', '2026', '(III) (2019)', '1956', '1923', '(I) (1975)',\n",
       "       '1943', '1939', '1945', '1928', '(II) (2008)', '1931', '1944',\n",
       "       '(I) (1988)', '(III) (2022)', '(I) (1991)', '(III) (2016)', '1916',\n",
       "       '1936', '(VI)', '(IV) (2001)', '(IV) (2015)', '(II) (2000)',\n",
       "       '(II) (2011)', '1918', '(VI) (2021)', '(XIV)', '(IV) (2016)',\n",
       "       '(II) (1959)', '(II) (1998)', '1933', '1946', '(IV) (2017)',\n",
       "       '1947', '(I) (2005)', '1914', '(II) (1999)', '(III) (2015)',\n",
       "       '(II) (2009)', '(I) (1966)', '(I) (1982)', '(I) (1980)',\n",
       "       '(II) (1997)', '(IV) (2012)', '1930', '1906', '(XIX)',\n",
       "       '(I) (1989)', '(I) (1983)', '(I) (1987)', '(III) (2014)',\n",
       "       '(III) (2011)', '(VII)', '1929', '(II) (2004)', '(VI) (2015)',\n",
       "       '(I) (1985)', '(I) (1981)', '(V) (2016)', '(V) (2020)',\n",
       "       '(II) (2006)', '(II) (1996)', '(I) (1932)', '(I) (2001)',\n",
       "       '(V) (2018)', '(I) (1976)', '(IV) (2022)', '(XVI)', '1925',\n",
       "       '(III) (2020)', '(II) (2010)', '(IV) (2019)', '(VIII) (2018)',\n",
       "       '1921', '(I) (1936)', '1919', '1920', '1913', '(I) (1971)',\n",
       "       '(I) (1968)', '(II) (2007)', '(I) (1972)', '(I) (1969)', '(XII)',\n",
       "       '(I) (1978)', '(XI) (2017)', '1922', '(I) (1986)', '(XXXIII)',\n",
       "       '(XV) (2020)', '(IX) (2016)', '(I) (1994)', '(V) (2017)',\n",
       "       '(V) (2012)', '(VI) (2020)', '(IV) (2018)', '(III) (2006)',\n",
       "       '(II) (1951)'], dtype=object)"
      ]
     },
     "execution_count": 68,
     "metadata": {},
     "output_type": "execute_result"
    }
   ],
   "source": [
    "df['year'].unique()"
   ]
  },
  {
   "cell_type": "code",
   "execution_count": 69,
   "id": "d304244c",
   "metadata": {
    "execution": {
     "iopub.execute_input": "2023-04-25T13:07:02.463425Z",
     "iopub.status.busy": "2023-04-25T13:07:02.462924Z",
     "iopub.status.idle": "2023-04-25T13:07:02.537536Z",
     "shell.execute_reply": "2023-04-25T13:07:02.536316Z"
    },
    "id": "KrJgeNVKcSzD",
    "outputId": "1ff207c8-b482-482e-9460-bd65ccfbed7e",
    "papermill": {
     "duration": 0.088173,
     "end_time": "2023-04-25T13:07:02.540246",
     "exception": false,
     "start_time": "2023-04-25T13:07:02.452073",
     "status": "completed"
    },
    "tags": []
   },
   "outputs": [],
   "source": [
    "atiklar=[\"(\",\")\",\"I\",\"V\",\" \",\"X\"]\n",
    "for a in atiklar:\n",
    "    df['year']=df['year'].str.replace(a,\"\")\n"
   ]
  },
  {
   "cell_type": "code",
   "execution_count": 70,
   "id": "71359522",
   "metadata": {
    "execution": {
     "iopub.execute_input": "2023-04-25T13:07:02.561018Z",
     "iopub.status.busy": "2023-04-25T13:07:02.560276Z",
     "iopub.status.idle": "2023-04-25T13:07:02.570375Z",
     "shell.execute_reply": "2023-04-25T13:07:02.569290Z"
    },
    "id": "r3b5NPotdI4U",
    "outputId": "1674f51c-b8f7-4476-e30c-a08a6358e310",
    "papermill": {
     "duration": 0.023195,
     "end_time": "2023-04-25T13:07:02.572695",
     "exception": false,
     "start_time": "2023-04-25T13:07:02.549500",
     "status": "completed"
    },
    "tags": []
   },
   "outputs": [
    {
     "data": {
      "text/plain": [
       "array(['2022', '1986', '1993', '2021', '2015', '2018', '1997', '1984',\n",
       "       '2001', '1977', '2019', '2003', '1996', '1999', '2008', '2017',\n",
       "       '2010', '2005', '2023', '1989', '2011', '1995', '2009', '2020',\n",
       "       '2014', '2000', '2002', '1983', '2012', '2013', '1988', '2006',\n",
       "       '2016', '1982', '1987', '2007', '1991', '2004', '1994', '1998',\n",
       "       '1990', '1992', '1978', '1962', '1976', '1979', '1980', nan,\n",
       "       '1985', '1964', '1981', '1968', '1971', '1974', '1959', '1973',\n",
       "       '1963', '1965', '1969', '', '1967', '2024', '1972', '1961', '1915',\n",
       "       '1966', '1953', '1975', '1970', '1937', '1952', '1938', '1960',\n",
       "       '1932', '2025', '1954', '1949', '1926', '1948', '1958', '1950',\n",
       "       '1957', '1951', '2027', '1940', '1924', '2028', '1941', '1934',\n",
       "       '1927', '1942', '1955', '1935', '2026', '1956', '1923', '1943',\n",
       "       '1939', '1945', '1928', '1931', '1944', '1916', '1936', '1918',\n",
       "       '1933', '1946', '1947', '1914', '1930', '1906', '1929', '1925',\n",
       "       '1921', '1919', '1920', '1913', '1922'], dtype=object)"
      ]
     },
     "execution_count": 70,
     "metadata": {},
     "output_type": "execute_result"
    }
   ],
   "source": [
    "df['year'].unique()"
   ]
  },
  {
   "cell_type": "code",
   "execution_count": 71,
   "id": "5af6abf3",
   "metadata": {
    "execution": {
     "iopub.execute_input": "2023-04-25T13:07:02.593552Z",
     "iopub.status.busy": "2023-04-25T13:07:02.593158Z",
     "iopub.status.idle": "2023-04-25T13:07:02.601218Z",
     "shell.execute_reply": "2023-04-25T13:07:02.600344Z"
    },
    "id": "xL4kWcS5dNM0",
    "papermill": {
     "duration": 0.021445,
     "end_time": "2023-04-25T13:07:02.603590",
     "exception": false,
     "start_time": "2023-04-25T13:07:02.582145",
     "status": "completed"
    },
    "tags": []
   },
   "outputs": [],
   "source": [
    "df['year']=np.where(df['year']==\"\",\"1900\",df['year'])"
   ]
  },
  {
   "cell_type": "code",
   "execution_count": 72,
   "id": "ac3d04ad",
   "metadata": {
    "execution": {
     "iopub.execute_input": "2023-04-25T13:07:02.624684Z",
     "iopub.status.busy": "2023-04-25T13:07:02.623599Z",
     "iopub.status.idle": "2023-04-25T13:07:02.631790Z",
     "shell.execute_reply": "2023-04-25T13:07:02.630531Z"
    },
    "id": "sHix3WVXeS5e",
    "papermill": {
     "duration": 0.021419,
     "end_time": "2023-04-25T13:07:02.634440",
     "exception": false,
     "start_time": "2023-04-25T13:07:02.613021",
     "status": "completed"
    },
    "tags": []
   },
   "outputs": [],
   "source": [
    "df['year']=df['year'].fillna(\"1900\")"
   ]
  },
  {
   "cell_type": "code",
   "execution_count": 23,
   "id": "5689a099",
   "metadata": {
    "execution": {
     "iopub.execute_input": "2023-04-25T13:07:02.655005Z",
     "iopub.status.busy": "2023-04-25T13:07:02.654351Z",
     "iopub.status.idle": "2023-04-25T13:07:02.664340Z",
     "shell.execute_reply": "2023-04-25T13:07:02.663023Z"
    },
    "id": "e2jWwnB2e8IU",
    "papermill": {
     "duration": 0.02385,
     "end_time": "2023-04-25T13:07:02.667614",
     "exception": false,
     "start_time": "2023-04-25T13:07:02.643764",
     "status": "completed"
    },
    "tags": []
   },
   "outputs": [],
   "source": [
    "# df['year']=df['year']+\"-01-01\""
   ]
  },
  {
   "cell_type": "code",
   "execution_count": 48,
   "id": "08c6a7ee",
   "metadata": {
    "execution": {
     "iopub.execute_input": "2023-04-25T13:07:02.688702Z",
     "iopub.status.busy": "2023-04-25T13:07:02.688047Z",
     "iopub.status.idle": "2023-04-25T13:07:02.703619Z",
     "shell.execute_reply": "2023-04-25T13:07:02.702451Z"
    },
    "id": "TuBVCSvgfsYj",
    "papermill": {
     "duration": 0.029298,
     "end_time": "2023-04-25T13:07:02.706398",
     "exception": false,
     "start_time": "2023-04-25T13:07:02.677100",
     "status": "completed"
    },
    "tags": []
   },
   "outputs": [],
   "source": [
    "df['year']=pd.to_datetime(df['year'])"
   ]
  },
  {
   "cell_type": "code",
   "execution_count": 73,
   "id": "6a6871c3",
   "metadata": {
    "execution": {
     "iopub.execute_input": "2023-04-25T13:07:02.726906Z",
     "iopub.status.busy": "2023-04-25T13:07:02.726508Z",
     "iopub.status.idle": "2023-04-25T13:07:02.749857Z",
     "shell.execute_reply": "2023-04-25T13:07:02.748473Z"
    },
    "id": "NhALPxAgf4B8",
    "outputId": "1283c1e3-bf18-4508-9f82-91ea8abe0c23",
    "papermill": {
     "duration": 0.036585,
     "end_time": "2023-04-25T13:07:02.752326",
     "exception": false,
     "start_time": "2023-04-25T13:07:02.715741",
     "status": "completed"
    },
    "tags": []
   },
   "outputs": [
    {
     "name": "stdout",
     "output_type": "stream",
     "text": [
      "<class 'pandas.core.frame.DataFrame'>\n",
      "RangeIndex: 24402 entries, 0 to 24401\n",
      "Data columns (total 10 columns):\n",
      " #   Column        Non-Null Count  Dtype  \n",
      "---  ------        --------------  -----  \n",
      " 0   movie title   24402 non-null  object \n",
      " 1   Rating        24402 non-null  float64\n",
      " 2   User Rating   24402 non-null  float64\n",
      " 3   Generes       24402 non-null  object \n",
      " 4   Overview      24158 non-null  object \n",
      " 5   Plot Kyeword  24402 non-null  object \n",
      " 6   Director      24402 non-null  object \n",
      " 7   Top 5 Casts   24402 non-null  object \n",
      " 8   Writer        24402 non-null  object \n",
      " 9   year          24402 non-null  object \n",
      "dtypes: float64(2), object(8)\n",
      "memory usage: 1.9+ MB\n"
     ]
    }
   ],
   "source": [
    "df.info()"
   ]
  },
  {
   "cell_type": "code",
   "execution_count": 74,
   "id": "e657a584",
   "metadata": {
    "execution": {
     "iopub.execute_input": "2023-04-25T13:07:02.773276Z",
     "iopub.status.busy": "2023-04-25T13:07:02.772446Z",
     "iopub.status.idle": "2023-04-25T13:07:02.789461Z",
     "shell.execute_reply": "2023-04-25T13:07:02.788339Z"
    },
    "id": "4pF5WbGggjx7",
    "outputId": "09d1a434-cc86-4cd8-a3b1-9e5fe257ba8e",
    "papermill": {
     "duration": 0.030176,
     "end_time": "2023-04-25T13:07:02.791865",
     "exception": false,
     "start_time": "2023-04-25T13:07:02.761689",
     "status": "completed"
    },
    "tags": []
   },
   "outputs": [
    {
     "data": {
      "text/html": [
       "<div>\n",
       "<style scoped>\n",
       "    .dataframe tbody tr th:only-of-type {\n",
       "        vertical-align: middle;\n",
       "    }\n",
       "\n",
       "    .dataframe tbody tr th {\n",
       "        vertical-align: top;\n",
       "    }\n",
       "\n",
       "    .dataframe thead th {\n",
       "        text-align: right;\n",
       "    }\n",
       "</style>\n",
       "<table border=\"1\" class=\"dataframe\">\n",
       "  <thead>\n",
       "    <tr style=\"text-align: right;\">\n",
       "      <th></th>\n",
       "      <th>movie title</th>\n",
       "      <th>Rating</th>\n",
       "      <th>User Rating</th>\n",
       "      <th>Generes</th>\n",
       "      <th>Overview</th>\n",
       "      <th>Plot Kyeword</th>\n",
       "      <th>Director</th>\n",
       "      <th>Top 5 Casts</th>\n",
       "      <th>Writer</th>\n",
       "      <th>year</th>\n",
       "    </tr>\n",
       "  </thead>\n",
       "  <tbody>\n",
       "    <tr>\n",
       "      <th>0</th>\n",
       "      <td>Top Gun: Maverick</td>\n",
       "      <td>8.6</td>\n",
       "      <td>187000.0</td>\n",
       "      <td>['Action', 'Drama']</td>\n",
       "      <td>After more than thirty years of service as one...</td>\n",
       "      <td>['fighter jet', 'sequel', 'u.s. navy', 'fighte...</td>\n",
       "      <td>Joseph Kosinski</td>\n",
       "      <td>['Jack Epps Jr.', 'Peter Craig', 'Tom Cruise',...</td>\n",
       "      <td>Jim Cash</td>\n",
       "      <td>2022</td>\n",
       "    </tr>\n",
       "    <tr>\n",
       "      <th>1</th>\n",
       "      <td>Jurassic World Dominion</td>\n",
       "      <td>6.0</td>\n",
       "      <td>56000.0</td>\n",
       "      <td>['Action', 'Adventure', 'Sci-Fi']</td>\n",
       "      <td>Four years after the destruction of Isla Nubla...</td>\n",
       "      <td>['dinosaur', 'jurassic park', 'tyrannosaurus r...</td>\n",
       "      <td>Colin Trevorrow</td>\n",
       "      <td>['Colin Trevorrow', 'Derek Connolly', 'Chris P...</td>\n",
       "      <td>Emily Carmichael</td>\n",
       "      <td>2022</td>\n",
       "    </tr>\n",
       "    <tr>\n",
       "      <th>2</th>\n",
       "      <td>Top Gun</td>\n",
       "      <td>6.9</td>\n",
       "      <td>380000.0</td>\n",
       "      <td>['Action', 'Drama']</td>\n",
       "      <td>As students at the United States Navy's elite ...</td>\n",
       "      <td>['pilot', 'male camaraderie', 'u.s. navy', 'gr...</td>\n",
       "      <td>Tony Scott</td>\n",
       "      <td>['Jack Epps Jr.', 'Ehud Yonay', 'Tom Cruise', ...</td>\n",
       "      <td>Jim Cash</td>\n",
       "      <td>1986</td>\n",
       "    </tr>\n",
       "  </tbody>\n",
       "</table>\n",
       "</div>"
      ],
      "text/plain": [
       "               movie title  Rating  User Rating  \\\n",
       "0        Top Gun: Maverick     8.6     187000.0   \n",
       "1  Jurassic World Dominion     6.0      56000.0   \n",
       "2                  Top Gun     6.9     380000.0   \n",
       "\n",
       "                             Generes  \\\n",
       "0                ['Action', 'Drama']   \n",
       "1  ['Action', 'Adventure', 'Sci-Fi']   \n",
       "2                ['Action', 'Drama']   \n",
       "\n",
       "                                            Overview  \\\n",
       "0  After more than thirty years of service as one...   \n",
       "1  Four years after the destruction of Isla Nubla...   \n",
       "2  As students at the United States Navy's elite ...   \n",
       "\n",
       "                                        Plot Kyeword         Director  \\\n",
       "0  ['fighter jet', 'sequel', 'u.s. navy', 'fighte...  Joseph Kosinski   \n",
       "1  ['dinosaur', 'jurassic park', 'tyrannosaurus r...  Colin Trevorrow   \n",
       "2  ['pilot', 'male camaraderie', 'u.s. navy', 'gr...       Tony Scott   \n",
       "\n",
       "                                         Top 5 Casts            Writer  year  \n",
       "0  ['Jack Epps Jr.', 'Peter Craig', 'Tom Cruise',...          Jim Cash  2022  \n",
       "1  ['Colin Trevorrow', 'Derek Connolly', 'Chris P...  Emily Carmichael  2022  \n",
       "2  ['Jack Epps Jr.', 'Ehud Yonay', 'Tom Cruise', ...          Jim Cash  1986  "
      ]
     },
     "execution_count": 74,
     "metadata": {},
     "output_type": "execute_result"
    }
   ],
   "source": [
    "df.head(3)"
   ]
  },
  {
   "cell_type": "code",
   "execution_count": 75,
   "id": "132a3838",
   "metadata": {},
   "outputs": [],
   "source": [
    "df.to_csv(\"movies_clean.csv\")"
   ]
  },
  {
   "cell_type": "markdown",
   "id": "37644a7b",
   "metadata": {},
   "source": [
    "# Business Codes "
   ]
  },
  {
   "cell_type": "code",
   "execution_count": 26,
   "id": "4509e40f",
   "metadata": {
    "execution": {
     "iopub.execute_input": "2023-04-25T13:07:02.813494Z",
     "iopub.status.busy": "2023-04-25T13:07:02.813083Z",
     "iopub.status.idle": "2023-04-25T13:07:02.819474Z",
     "shell.execute_reply": "2023-04-25T13:07:02.817940Z"
    },
    "id": "QdzKsU-0h6EG",
    "papermill": {
     "duration": 0.020272,
     "end_time": "2023-04-25T13:07:02.822132",
     "exception": false,
     "start_time": "2023-04-25T13:07:02.801860",
     "status": "completed"
    },
    "tags": []
   },
   "outputs": [],
   "source": [
    "def filmbul(df,query,score):\n",
    "    filtre1=df['movie title'].str.contains(query.title())\n",
    "    filtre2=df['Overview'].str.contains(query)\n",
    "    filtre3=df['Rating']>score\n",
    "    df=df[(filtre1 | filtre2) & filtre3]\n",
    "    return df"
   ]
  },
  {
   "cell_type": "code",
   "execution_count": 27,
   "id": "4aaf42d2",
   "metadata": {
    "execution": {
     "iopub.execute_input": "2023-04-25T13:07:02.843923Z",
     "iopub.status.busy": "2023-04-25T13:07:02.843533Z",
     "iopub.status.idle": "2023-04-25T13:07:02.905278Z",
     "shell.execute_reply": "2023-04-25T13:07:02.903923Z"
    },
    "id": "TZyJdpR0my7a",
    "outputId": "de4fb98e-a5b9-44df-e5aa-665bfd75ec1b",
    "papermill": {
     "duration": 0.076083,
     "end_time": "2023-04-25T13:07:02.908279",
     "exception": false,
     "start_time": "2023-04-25T13:07:02.832196",
     "status": "completed"
    },
    "tags": []
   },
   "outputs": [
    {
     "data": {
      "text/html": [
       "<div>\n",
       "<style scoped>\n",
       "    .dataframe tbody tr th:only-of-type {\n",
       "        vertical-align: middle;\n",
       "    }\n",
       "\n",
       "    .dataframe tbody tr th {\n",
       "        vertical-align: top;\n",
       "    }\n",
       "\n",
       "    .dataframe thead th {\n",
       "        text-align: right;\n",
       "    }\n",
       "</style>\n",
       "<table border=\"1\" class=\"dataframe\">\n",
       "  <thead>\n",
       "    <tr style=\"text-align: right;\">\n",
       "      <th></th>\n",
       "      <th>movie title</th>\n",
       "      <th>Rating</th>\n",
       "      <th>User Rating</th>\n",
       "      <th>Generes</th>\n",
       "      <th>Overview</th>\n",
       "      <th>Plot Kyeword</th>\n",
       "      <th>Director</th>\n",
       "      <th>Top 5 Casts</th>\n",
       "      <th>Writer</th>\n",
       "      <th>year</th>\n",
       "    </tr>\n",
       "  </thead>\n",
       "  <tbody>\n",
       "    <tr>\n",
       "      <th>10</th>\n",
       "      <td>Thor: Love and Thunder</td>\n",
       "      <td>8.2</td>\n",
       "      <td>926.0</td>\n",
       "      <td>['Action', 'Adventure', 'Comedy']</td>\n",
       "      <td>Thor enlists the help of Valkyrie, Korg and ex...</td>\n",
       "      <td>['marvel comics', 'based on comic', 'superhero...</td>\n",
       "      <td>Taika Waititi</td>\n",
       "      <td>['Jennifer Kaytin Robinson', 'Stan Lee', 'Chri...</td>\n",
       "      <td>Taika Waititi</td>\n",
       "      <td>2022-01-01</td>\n",
       "    </tr>\n",
       "    <tr>\n",
       "      <th>41</th>\n",
       "      <td>Pirates of the Caribbean: The Curse of the Bla...</td>\n",
       "      <td>8.1</td>\n",
       "      <td>1.1</td>\n",
       "      <td>['Action', 'Adventure', 'Fantasy']</td>\n",
       "      <td>Blacksmith Will Turner teams up with eccentric...</td>\n",
       "      <td>['pirate', 'curse', 'undead', 'captain jack sp...</td>\n",
       "      <td>Gore Verbinski</td>\n",
       "      <td>['Terry Rossio', 'Stuart Beattie', 'Johnny Dep...</td>\n",
       "      <td>Ted Elliott</td>\n",
       "      <td>2003-01-01</td>\n",
       "    </tr>\n",
       "    <tr>\n",
       "      <th>55</th>\n",
       "      <td>Samrat Prithviraj</td>\n",
       "      <td>7.6</td>\n",
       "      <td>47000.0</td>\n",
       "      <td>['Action', 'Drama', 'History']</td>\n",
       "      <td>A fearless warrior. An epic love story. Witnes...</td>\n",
       "      <td>['periodic', 'warrior']</td>\n",
       "      <td>Chandra Prakash Dwivedi</td>\n",
       "      <td>['Akshay Kumar', 'Manushi Chhillar', 'Sanjay D...</td>\n",
       "      <td>Chandra Prakash Dwivedi</td>\n",
       "      <td>2022-01-01</td>\n",
       "    </tr>\n",
       "    <tr>\n",
       "      <th>140</th>\n",
       "      <td>The Hunt</td>\n",
       "      <td>8.3</td>\n",
       "      <td>322000.0</td>\n",
       "      <td>['Drama']</td>\n",
       "      <td>A teacher lives a lonely life, all the while s...</td>\n",
       "      <td>['kindergarten teacher', 'gunshot', 'punched i...</td>\n",
       "      <td>Thomas Vinterberg</td>\n",
       "      <td>['Thomas Vinterberg', 'Mads Mikkelsen', 'Thoma...</td>\n",
       "      <td>Tobias Lindholm</td>\n",
       "      <td>2020-01-01</td>\n",
       "    </tr>\n",
       "    <tr>\n",
       "      <th>567</th>\n",
       "      <td>Kill Bill: Vol. 2</td>\n",
       "      <td>8.0</td>\n",
       "      <td>741000.0</td>\n",
       "      <td>['Action', 'Crime', 'Thriller']</td>\n",
       "      <td>The Bride continues her quest of vengeance aga...</td>\n",
       "      <td>['female assassin', 'revenge', 'wedding chapel...</td>\n",
       "      <td>Quentin Tarantino</td>\n",
       "      <td>['Uma Thurman', 'Uma Thurman', 'David Carradin...</td>\n",
       "      <td>Quentin Tarantino</td>\n",
       "      <td>2004-01-01</td>\n",
       "    </tr>\n",
       "    <tr>\n",
       "      <th>...</th>\n",
       "      <td>...</td>\n",
       "      <td>...</td>\n",
       "      <td>...</td>\n",
       "      <td>...</td>\n",
       "      <td>...</td>\n",
       "      <td>...</td>\n",
       "      <td>...</td>\n",
       "      <td>...</td>\n",
       "      <td>...</td>\n",
       "      <td>...</td>\n",
       "    </tr>\n",
       "    <tr>\n",
       "      <th>22973</th>\n",
       "      <td>He Who Gets Slapped</td>\n",
       "      <td>7.8</td>\n",
       "      <td>3.8</td>\n",
       "      <td>['Drama', 'Romance', 'Thriller']</td>\n",
       "      <td>A bitter clown endeavors to rescue the young w...</td>\n",
       "      <td>['revenge', 'clown', 'sad clown', 'circus', 'b...</td>\n",
       "      <td>Victor Sjöström</td>\n",
       "      <td>['Carey Wilson', 'Victor Sjöström', 'Lon Chane...</td>\n",
       "      <td>Leonid Andreyev</td>\n",
       "      <td>1924-01-01</td>\n",
       "    </tr>\n",
       "    <tr>\n",
       "      <th>23135</th>\n",
       "      <td>Kshanam</td>\n",
       "      <td>8.2</td>\n",
       "      <td>5.5</td>\n",
       "      <td>['Mystery', 'Thriller']</td>\n",
       "      <td>Rishi, a non-resident Indian, returns to India...</td>\n",
       "      <td>['nri', 'investigation', 'missing person', 'mi...</td>\n",
       "      <td>Ravikanth Perepu</td>\n",
       "      <td>['Ravikanth Perepu', 'Abburi Ravi', 'Adivi Ses...</td>\n",
       "      <td>Adivi Sesh</td>\n",
       "      <td>2016-01-01</td>\n",
       "    </tr>\n",
       "    <tr>\n",
       "      <th>23553</th>\n",
       "      <td>Despicable Me</td>\n",
       "      <td>7.6</td>\n",
       "      <td>535000.0</td>\n",
       "      <td>['Animation', 'Adventure', 'Comedy']</td>\n",
       "      <td>When a criminal mastermind uses a trio of orph...</td>\n",
       "      <td>['girl', 'moon', 'white picket fence', 'pyrami...</td>\n",
       "      <td>Pierre Coffin</td>\n",
       "      <td>['Cinco Paul', 'Ken Daurio', 'Sergio Pablos', ...</td>\n",
       "      <td>Chris Renaud</td>\n",
       "      <td>2010-01-01</td>\n",
       "    </tr>\n",
       "    <tr>\n",
       "      <th>24203</th>\n",
       "      <td>Agir Roman</td>\n",
       "      <td>7.6</td>\n",
       "      <td>11000.0</td>\n",
       "      <td>['Crime', 'Drama', 'Romance']</td>\n",
       "      <td>A young car mechanic, while in the middle of a...</td>\n",
       "      <td>['istanbul turkey', 'violence', 'knife', 'base...</td>\n",
       "      <td>Mustafa Altioklar</td>\n",
       "      <td>['Metin Kaçan', 'Okan Bayülgen', 'Müjde Ar', '...</td>\n",
       "      <td>Mustafa Altioklar</td>\n",
       "      <td>1997-01-01</td>\n",
       "    </tr>\n",
       "    <tr>\n",
       "      <th>24366</th>\n",
       "      <td>Miss Lovely</td>\n",
       "      <td>8.0</td>\n",
       "      <td>13000.0</td>\n",
       "      <td>['Crime', 'Drama', 'Romance']</td>\n",
       "      <td>A Hindi feature film set in the lower depths o...</td>\n",
       "      <td>['bombay', 'timeframe 1980s', 'film industry',...</td>\n",
       "      <td>Ashim Ahluwalia</td>\n",
       "      <td>['Uttam Sirur', 'Nawazuddin Siddiqui', 'Nihari...</td>\n",
       "      <td>Ashim Ahluwalia</td>\n",
       "      <td>2012-01-01</td>\n",
       "    </tr>\n",
       "  </tbody>\n",
       "</table>\n",
       "<p>158 rows × 10 columns</p>\n",
       "</div>"
      ],
      "text/plain": [
       "                                             movie title  Rating  User Rating  \\\n",
       "10                                Thor: Love and Thunder     8.2        926.0   \n",
       "41     Pirates of the Caribbean: The Curse of the Bla...     8.1          1.1   \n",
       "55                                     Samrat Prithviraj     7.6      47000.0   \n",
       "140                                             The Hunt     8.3     322000.0   \n",
       "567                                    Kill Bill: Vol. 2     8.0     741000.0   \n",
       "...                                                  ...     ...          ...   \n",
       "22973                                He Who Gets Slapped     7.8          3.8   \n",
       "23135                                            Kshanam     8.2          5.5   \n",
       "23553                                      Despicable Me     7.6     535000.0   \n",
       "24203                                         Agir Roman     7.6      11000.0   \n",
       "24366                                        Miss Lovely     8.0      13000.0   \n",
       "\n",
       "                                    Generes  \\\n",
       "10        ['Action', 'Adventure', 'Comedy']   \n",
       "41       ['Action', 'Adventure', 'Fantasy']   \n",
       "55           ['Action', 'Drama', 'History']   \n",
       "140                               ['Drama']   \n",
       "567         ['Action', 'Crime', 'Thriller']   \n",
       "...                                     ...   \n",
       "22973      ['Drama', 'Romance', 'Thriller']   \n",
       "23135               ['Mystery', 'Thriller']   \n",
       "23553  ['Animation', 'Adventure', 'Comedy']   \n",
       "24203         ['Crime', 'Drama', 'Romance']   \n",
       "24366         ['Crime', 'Drama', 'Romance']   \n",
       "\n",
       "                                                Overview  \\\n",
       "10     Thor enlists the help of Valkyrie, Korg and ex...   \n",
       "41     Blacksmith Will Turner teams up with eccentric...   \n",
       "55     A fearless warrior. An epic love story. Witnes...   \n",
       "140    A teacher lives a lonely life, all the while s...   \n",
       "567    The Bride continues her quest of vengeance aga...   \n",
       "...                                                  ...   \n",
       "22973  A bitter clown endeavors to rescue the young w...   \n",
       "23135  Rishi, a non-resident Indian, returns to India...   \n",
       "23553  When a criminal mastermind uses a trio of orph...   \n",
       "24203  A young car mechanic, while in the middle of a...   \n",
       "24366  A Hindi feature film set in the lower depths o...   \n",
       "\n",
       "                                            Plot Kyeword  \\\n",
       "10     ['marvel comics', 'based on comic', 'superhero...   \n",
       "41     ['pirate', 'curse', 'undead', 'captain jack sp...   \n",
       "55                               ['periodic', 'warrior']   \n",
       "140    ['kindergarten teacher', 'gunshot', 'punched i...   \n",
       "567    ['female assassin', 'revenge', 'wedding chapel...   \n",
       "...                                                  ...   \n",
       "22973  ['revenge', 'clown', 'sad clown', 'circus', 'b...   \n",
       "23135  ['nri', 'investigation', 'missing person', 'mi...   \n",
       "23553  ['girl', 'moon', 'white picket fence', 'pyrami...   \n",
       "24203  ['istanbul turkey', 'violence', 'knife', 'base...   \n",
       "24366  ['bombay', 'timeframe 1980s', 'film industry',...   \n",
       "\n",
       "                      Director  \\\n",
       "10               Taika Waititi   \n",
       "41              Gore Verbinski   \n",
       "55     Chandra Prakash Dwivedi   \n",
       "140          Thomas Vinterberg   \n",
       "567          Quentin Tarantino   \n",
       "...                        ...   \n",
       "22973          Victor Sjöström   \n",
       "23135         Ravikanth Perepu   \n",
       "23553            Pierre Coffin   \n",
       "24203        Mustafa Altioklar   \n",
       "24366          Ashim Ahluwalia   \n",
       "\n",
       "                                             Top 5 Casts  \\\n",
       "10     ['Jennifer Kaytin Robinson', 'Stan Lee', 'Chri...   \n",
       "41     ['Terry Rossio', 'Stuart Beattie', 'Johnny Dep...   \n",
       "55     ['Akshay Kumar', 'Manushi Chhillar', 'Sanjay D...   \n",
       "140    ['Thomas Vinterberg', 'Mads Mikkelsen', 'Thoma...   \n",
       "567    ['Uma Thurman', 'Uma Thurman', 'David Carradin...   \n",
       "...                                                  ...   \n",
       "22973  ['Carey Wilson', 'Victor Sjöström', 'Lon Chane...   \n",
       "23135  ['Ravikanth Perepu', 'Abburi Ravi', 'Adivi Ses...   \n",
       "23553  ['Cinco Paul', 'Ken Daurio', 'Sergio Pablos', ...   \n",
       "24203  ['Metin Kaçan', 'Okan Bayülgen', 'Müjde Ar', '...   \n",
       "24366  ['Uttam Sirur', 'Nawazuddin Siddiqui', 'Nihari...   \n",
       "\n",
       "                        Writer       year  \n",
       "10               Taika Waititi 2022-01-01  \n",
       "41                 Ted Elliott 2003-01-01  \n",
       "55     Chandra Prakash Dwivedi 2022-01-01  \n",
       "140            Tobias Lindholm 2020-01-01  \n",
       "567          Quentin Tarantino 2004-01-01  \n",
       "...                        ...        ...  \n",
       "22973          Leonid Andreyev 1924-01-01  \n",
       "23135               Adivi Sesh 2016-01-01  \n",
       "23553             Chris Renaud 2010-01-01  \n",
       "24203        Mustafa Altioklar 1997-01-01  \n",
       "24366          Ashim Ahluwalia 2012-01-01  \n",
       "\n",
       "[158 rows x 10 columns]"
      ]
     },
     "execution_count": 27,
     "metadata": {},
     "output_type": "execute_result"
    }
   ],
   "source": [
    "filmbul(df,\"love\",7.5)"
   ]
  },
  {
   "cell_type": "code",
   "execution_count": 28,
   "id": "38b3547e",
   "metadata": {
    "execution": {
     "iopub.execute_input": "2023-04-25T13:07:02.931046Z",
     "iopub.status.busy": "2023-04-25T13:07:02.930247Z",
     "iopub.status.idle": "2023-04-25T13:07:02.956764Z",
     "shell.execute_reply": "2023-04-25T13:07:02.955454Z"
    },
    "id": "zHsCNkF9nMNn",
    "outputId": "ad95fe4e-3c9e-4770-e0b0-e207e9f59a03",
    "papermill": {
     "duration": 0.040903,
     "end_time": "2023-04-25T13:07:02.959509",
     "exception": false,
     "start_time": "2023-04-25T13:07:02.918606",
     "status": "completed"
    },
    "tags": []
   },
   "outputs": [],
   "source": [
    "yonetmen=df.groupby(\"Director\").sum()"
   ]
  },
  {
   "cell_type": "code",
   "execution_count": 29,
   "id": "71f50963",
   "metadata": {
    "execution": {
     "iopub.execute_input": "2023-04-25T13:07:02.982169Z",
     "iopub.status.busy": "2023-04-25T13:07:02.981445Z",
     "iopub.status.idle": "2023-04-25T13:07:02.991058Z",
     "shell.execute_reply": "2023-04-25T13:07:02.989751Z"
    },
    "id": "UYip-4G2toUq",
    "papermill": {
     "duration": 0.023953,
     "end_time": "2023-04-25T13:07:02.994073",
     "exception": false,
     "start_time": "2023-04-25T13:07:02.970120",
     "status": "completed"
    },
    "tags": []
   },
   "outputs": [],
   "source": [
    "ilk5=yonetmen.sort_values('User Rating',ascending=False).head(5)"
   ]
  },
  {
   "cell_type": "code",
   "execution_count": 30,
   "id": "6b585008",
   "metadata": {
    "execution": {
     "iopub.execute_input": "2023-04-25T13:07:03.017170Z",
     "iopub.status.busy": "2023-04-25T13:07:03.016407Z",
     "iopub.status.idle": "2023-04-25T13:07:03.058580Z",
     "shell.execute_reply": "2023-04-25T13:07:03.057056Z"
    },
    "id": "-3neXr_8vP7Q",
    "outputId": "4682f47b-56b0-40c3-c248-9cd0edc247f5",
    "papermill": {
     "duration": 0.056856,
     "end_time": "2023-04-25T13:07:03.061098",
     "exception": false,
     "start_time": "2023-04-25T13:07:03.004242",
     "status": "completed"
    },
    "tags": []
   },
   "outputs": [
    {
     "data": {
      "text/html": [
       "<div>\n",
       "<style scoped>\n",
       "    .dataframe tbody tr th:only-of-type {\n",
       "        vertical-align: middle;\n",
       "    }\n",
       "\n",
       "    .dataframe tbody tr th {\n",
       "        vertical-align: top;\n",
       "    }\n",
       "\n",
       "    .dataframe thead th {\n",
       "        text-align: right;\n",
       "    }\n",
       "</style>\n",
       "<table border=\"1\" class=\"dataframe\">\n",
       "  <thead>\n",
       "    <tr style=\"text-align: right;\">\n",
       "      <th></th>\n",
       "      <th>movie title</th>\n",
       "      <th>Rating</th>\n",
       "      <th>User Rating</th>\n",
       "      <th>Generes</th>\n",
       "      <th>Overview</th>\n",
       "      <th>Plot Kyeword</th>\n",
       "      <th>Director</th>\n",
       "      <th>Top 5 Casts</th>\n",
       "      <th>Writer</th>\n",
       "      <th>year</th>\n",
       "    </tr>\n",
       "  </thead>\n",
       "  <tbody>\n",
       "    <tr>\n",
       "      <th>13</th>\n",
       "      <td>Jurassic Park</td>\n",
       "      <td>8.2</td>\n",
       "      <td>958000.0</td>\n",
       "      <td>['Action', 'Adventure', 'Sci-Fi']</td>\n",
       "      <td>A pragmatic paleontologist touring an almost c...</td>\n",
       "      <td>['dinosaur', 'scientist', 'bipedal dinosaur', ...</td>\n",
       "      <td>Steven Spielberg</td>\n",
       "      <td>['David Koepp', 'Sam Neill', 'Laura Dern', 'Je...</td>\n",
       "      <td>Michael Crichton</td>\n",
       "      <td>1993-01-01</td>\n",
       "    </tr>\n",
       "    <tr>\n",
       "      <th>33</th>\n",
       "      <td>The Lost World: Jurassic Park</td>\n",
       "      <td>6.5</td>\n",
       "      <td>411000.0</td>\n",
       "      <td>['Action', 'Adventure', 'Sci-Fi']</td>\n",
       "      <td>A research team is sent to the Jurassic Park S...</td>\n",
       "      <td>['dinosaur', 'jurassic park', 'tyrannosaurus r...</td>\n",
       "      <td>Steven Spielberg</td>\n",
       "      <td>['David Koepp', 'Jeff Goldblum', 'Julianne Moo...</td>\n",
       "      <td>Michael Crichton</td>\n",
       "      <td>1997-01-01</td>\n",
       "    </tr>\n",
       "    <tr>\n",
       "      <th>77</th>\n",
       "      <td>The Last Duel</td>\n",
       "      <td>7.4</td>\n",
       "      <td>144000.0</td>\n",
       "      <td>['Action', 'Drama', 'History']</td>\n",
       "      <td>King Charles VI declares that Knight Jean de C...</td>\n",
       "      <td>['14th century', 'duel', 'battle', 'husband wi...</td>\n",
       "      <td>Ridley Scott</td>\n",
       "      <td>['Ben Affleck', 'Matt Damon', 'Matt Damon', 'A...</td>\n",
       "      <td>Nicole Holofcener</td>\n",
       "      <td>2021-01-01</td>\n",
       "    </tr>\n",
       "    <tr>\n",
       "      <th>111</th>\n",
       "      <td>Blade Runner</td>\n",
       "      <td>8.1</td>\n",
       "      <td>753000.0</td>\n",
       "      <td>['Action', 'Drama', 'Sci-Fi']</td>\n",
       "      <td>A blade runner must pursue and terminate four ...</td>\n",
       "      <td>['tech noir', 'cyberpunk', 'police detective',...</td>\n",
       "      <td>Ridley Scott</td>\n",
       "      <td>['David Webb Peoples', 'Philip K. Dick', 'Harr...</td>\n",
       "      <td>Hampton Fancher</td>\n",
       "      <td>1982-01-01</td>\n",
       "    </tr>\n",
       "    <tr>\n",
       "      <th>125</th>\n",
       "      <td>Gladiator</td>\n",
       "      <td>8.5</td>\n",
       "      <td>1.5</td>\n",
       "      <td>['Action', 'Adventure', 'Drama']</td>\n",
       "      <td>A former Roman General sets out to exact venge...</td>\n",
       "      <td>['roman empire', 'gladiator', 'slavery', 'comb...</td>\n",
       "      <td>Ridley Scott</td>\n",
       "      <td>['John Logan', 'William Nicholson', 'Russell C...</td>\n",
       "      <td>David Franzoni</td>\n",
       "      <td>2000-01-01</td>\n",
       "    </tr>\n",
       "    <tr>\n",
       "      <th>...</th>\n",
       "      <td>...</td>\n",
       "      <td>...</td>\n",
       "      <td>...</td>\n",
       "      <td>...</td>\n",
       "      <td>...</td>\n",
       "      <td>...</td>\n",
       "      <td>...</td>\n",
       "      <td>...</td>\n",
       "      <td>...</td>\n",
       "      <td>...</td>\n",
       "    </tr>\n",
       "    <tr>\n",
       "      <th>19087</th>\n",
       "      <td>Alien</td>\n",
       "      <td>8.5</td>\n",
       "      <td>859000.0</td>\n",
       "      <td>['Horror', 'Sci-Fi']</td>\n",
       "      <td>The crew of a commercial spacecraft encounter ...</td>\n",
       "      <td>['alien', 'spaceship', 'outer space', 'female ...</td>\n",
       "      <td>Ridley Scott</td>\n",
       "      <td>['Ronald Shusett', 'Sigourney Weaver', 'Tom Sk...</td>\n",
       "      <td>Dan O'Bannon</td>\n",
       "      <td>1979-01-01</td>\n",
       "    </tr>\n",
       "    <tr>\n",
       "      <th>20380</th>\n",
       "      <td>The Outlaw Josey Wales</td>\n",
       "      <td>7.8</td>\n",
       "      <td>73000.0</td>\n",
       "      <td>['Western']</td>\n",
       "      <td>Missouri farmer Josey Wales joins a Confederat...</td>\n",
       "      <td>['civil war veteran', 'revenge', 'post america...</td>\n",
       "      <td>Clint Eastwood</td>\n",
       "      <td>['Philip Kaufman', 'Sonia Chernus', 'Clint Eas...</td>\n",
       "      <td>Forrest Carter</td>\n",
       "      <td>1976-01-01</td>\n",
       "    </tr>\n",
       "    <tr>\n",
       "      <th>21081</th>\n",
       "      <td>Jaws</td>\n",
       "      <td>8.1</td>\n",
       "      <td>587000.0</td>\n",
       "      <td>['Adventure', 'Thriller']</td>\n",
       "      <td>When a killer shark unleashes chaos on a beach...</td>\n",
       "      <td>['shark', 'great white shark', 'beach', 'block...</td>\n",
       "      <td>Steven Spielberg</td>\n",
       "      <td>['Carl Gottlieb', 'Roy Scheider', 'Robert Shaw...</td>\n",
       "      <td>Peter Benchley</td>\n",
       "      <td>1975-01-01</td>\n",
       "    </tr>\n",
       "    <tr>\n",
       "      <th>21092</th>\n",
       "      <td>Alien: Covenant</td>\n",
       "      <td>6.4</td>\n",
       "      <td>276000.0</td>\n",
       "      <td>['Horror', 'Sci-Fi', 'Thriller']</td>\n",
       "      <td>The crew of a colony ship, bound for a remote ...</td>\n",
       "      <td>['xenomorph', 'android', 'alien', 'future', 's...</td>\n",
       "      <td>Ridley Scott</td>\n",
       "      <td>['Ronald Shusett', 'Jack Paglen', 'Michael Fas...</td>\n",
       "      <td>Dan O'Bannon</td>\n",
       "      <td>2017-01-01</td>\n",
       "    </tr>\n",
       "    <tr>\n",
       "      <th>23556</th>\n",
       "      <td>Who Framed Roger Rabbit</td>\n",
       "      <td>7.7</td>\n",
       "      <td>198000.0</td>\n",
       "      <td>['Animation', 'Adventure', 'Comedy']</td>\n",
       "      <td>A toon-hating detective is a cartoon rabbit's ...</td>\n",
       "      <td>['roger rabbit', 'private detective', 'anthrop...</td>\n",
       "      <td>Robert Zemeckis</td>\n",
       "      <td>['Jeffrey Price', 'Peter S. Seaman', 'Bob Hosk...</td>\n",
       "      <td>Gary K. Wolf</td>\n",
       "      <td>1988-01-01</td>\n",
       "    </tr>\n",
       "  </tbody>\n",
       "</table>\n",
       "<p>133 rows × 10 columns</p>\n",
       "</div>"
      ],
      "text/plain": [
       "                         movie title  Rating  User Rating  \\\n",
       "13                     Jurassic Park     8.2     958000.0   \n",
       "33     The Lost World: Jurassic Park     6.5     411000.0   \n",
       "77                     The Last Duel     7.4     144000.0   \n",
       "111                     Blade Runner     8.1     753000.0   \n",
       "125                        Gladiator     8.5          1.5   \n",
       "...                              ...     ...          ...   \n",
       "19087                          Alien     8.5     859000.0   \n",
       "20380         The Outlaw Josey Wales     7.8      73000.0   \n",
       "21081                           Jaws     8.1     587000.0   \n",
       "21092                Alien: Covenant     6.4     276000.0   \n",
       "23556        Who Framed Roger Rabbit     7.7     198000.0   \n",
       "\n",
       "                                    Generes  \\\n",
       "13        ['Action', 'Adventure', 'Sci-Fi']   \n",
       "33        ['Action', 'Adventure', 'Sci-Fi']   \n",
       "77           ['Action', 'Drama', 'History']   \n",
       "111           ['Action', 'Drama', 'Sci-Fi']   \n",
       "125        ['Action', 'Adventure', 'Drama']   \n",
       "...                                     ...   \n",
       "19087                  ['Horror', 'Sci-Fi']   \n",
       "20380                           ['Western']   \n",
       "21081             ['Adventure', 'Thriller']   \n",
       "21092      ['Horror', 'Sci-Fi', 'Thriller']   \n",
       "23556  ['Animation', 'Adventure', 'Comedy']   \n",
       "\n",
       "                                                Overview  \\\n",
       "13     A pragmatic paleontologist touring an almost c...   \n",
       "33     A research team is sent to the Jurassic Park S...   \n",
       "77     King Charles VI declares that Knight Jean de C...   \n",
       "111    A blade runner must pursue and terminate four ...   \n",
       "125    A former Roman General sets out to exact venge...   \n",
       "...                                                  ...   \n",
       "19087  The crew of a commercial spacecraft encounter ...   \n",
       "20380  Missouri farmer Josey Wales joins a Confederat...   \n",
       "21081  When a killer shark unleashes chaos on a beach...   \n",
       "21092  The crew of a colony ship, bound for a remote ...   \n",
       "23556  A toon-hating detective is a cartoon rabbit's ...   \n",
       "\n",
       "                                            Plot Kyeword          Director  \\\n",
       "13     ['dinosaur', 'scientist', 'bipedal dinosaur', ...  Steven Spielberg   \n",
       "33     ['dinosaur', 'jurassic park', 'tyrannosaurus r...  Steven Spielberg   \n",
       "77     ['14th century', 'duel', 'battle', 'husband wi...      Ridley Scott   \n",
       "111    ['tech noir', 'cyberpunk', 'police detective',...      Ridley Scott   \n",
       "125    ['roman empire', 'gladiator', 'slavery', 'comb...      Ridley Scott   \n",
       "...                                                  ...               ...   \n",
       "19087  ['alien', 'spaceship', 'outer space', 'female ...      Ridley Scott   \n",
       "20380  ['civil war veteran', 'revenge', 'post america...    Clint Eastwood   \n",
       "21081  ['shark', 'great white shark', 'beach', 'block...  Steven Spielberg   \n",
       "21092  ['xenomorph', 'android', 'alien', 'future', 's...      Ridley Scott   \n",
       "23556  ['roger rabbit', 'private detective', 'anthrop...   Robert Zemeckis   \n",
       "\n",
       "                                             Top 5 Casts             Writer  \\\n",
       "13     ['David Koepp', 'Sam Neill', 'Laura Dern', 'Je...   Michael Crichton   \n",
       "33     ['David Koepp', 'Jeff Goldblum', 'Julianne Moo...   Michael Crichton   \n",
       "77     ['Ben Affleck', 'Matt Damon', 'Matt Damon', 'A...  Nicole Holofcener   \n",
       "111    ['David Webb Peoples', 'Philip K. Dick', 'Harr...    Hampton Fancher   \n",
       "125    ['John Logan', 'William Nicholson', 'Russell C...     David Franzoni   \n",
       "...                                                  ...                ...   \n",
       "19087  ['Ronald Shusett', 'Sigourney Weaver', 'Tom Sk...       Dan O'Bannon   \n",
       "20380  ['Philip Kaufman', 'Sonia Chernus', 'Clint Eas...     Forrest Carter   \n",
       "21081  ['Carl Gottlieb', 'Roy Scheider', 'Robert Shaw...     Peter Benchley   \n",
       "21092  ['Ronald Shusett', 'Jack Paglen', 'Michael Fas...       Dan O'Bannon   \n",
       "23556  ['Jeffrey Price', 'Peter S. Seaman', 'Bob Hosk...       Gary K. Wolf   \n",
       "\n",
       "            year  \n",
       "13    1993-01-01  \n",
       "33    1997-01-01  \n",
       "77    2021-01-01  \n",
       "111   1982-01-01  \n",
       "125   2000-01-01  \n",
       "...          ...  \n",
       "19087 1979-01-01  \n",
       "20380 1976-01-01  \n",
       "21081 1975-01-01  \n",
       "21092 2017-01-01  \n",
       "23556 1988-01-01  \n",
       "\n",
       "[133 rows x 10 columns]"
      ]
     },
     "execution_count": 30,
     "metadata": {},
     "output_type": "execute_result"
    }
   ],
   "source": [
    "df[df[\"Director\"].str.contains(\"|\".join(list(ilk5.index)))]"
   ]
  },
  {
   "cell_type": "code",
   "execution_count": 31,
   "id": "e8209b4f",
   "metadata": {
    "execution": {
     "iopub.execute_input": "2023-04-25T13:07:03.084635Z",
     "iopub.status.busy": "2023-04-25T13:07:03.084193Z",
     "iopub.status.idle": "2023-04-25T13:07:03.501880Z",
     "shell.execute_reply": "2023-04-25T13:07:03.500514Z"
    },
    "id": "IGJ0sl4rSZ26",
    "papermill": {
     "duration": 0.433018,
     "end_time": "2023-04-25T13:07:03.504907",
     "exception": false,
     "start_time": "2023-04-25T13:07:03.071889",
     "status": "completed"
    },
    "tags": []
   },
   "outputs": [],
   "source": [
    " yonetmenler=list(ilk5.index)\n",
    " yonetmenfiltre=\"|\".join(yonetmenler)\n",
    " filtre=df[\"Director\"].str.contains(yonetmenfiltre)\n",
    " df[filtre].to_excel(\"filmler.xlsx\")"
   ]
  }
 ],
 "metadata": {
  "kernelspec": {
   "display_name": "Python 3",
   "language": "python",
   "name": "python3"
  },
  "language_info": {
   "codemirror_mode": {
    "name": "ipython",
    "version": 3
   },
   "file_extension": ".py",
   "mimetype": "text/x-python",
   "name": "python",
   "nbconvert_exporter": "python",
   "pygments_lexer": "ipython3",
   "version": "3.10.14"
  },
  "papermill": {
   "default_parameters": {},
   "duration": 12.960799,
   "end_time": "2023-04-25T13:07:04.237703",
   "environment_variables": {},
   "exception": null,
   "input_path": "__notebook__.ipynb",
   "output_path": "__notebook__.ipynb",
   "parameters": {},
   "start_time": "2023-04-25T13:06:51.276904",
   "version": "2.4.0"
  }
 },
 "nbformat": 4,
 "nbformat_minor": 5
}
